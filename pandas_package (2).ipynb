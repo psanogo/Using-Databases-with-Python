{
 "cells": [
  {
   "cell_type": "markdown",
   "metadata": {
    "deletable": false,
    "editable": false,
    "nbgrader": {
     "cell_type": "markdown",
     "checksum": "990984985ee0873fd392db013848f97e",
     "grade": false,
     "grade_id": "cell-43c490a7d2f285ef",
     "locked": true,
     "schema_version": 3,
     "solution": false,
     "task": false
    }
   },
   "source": [
    "## The pandas package\n",
    "\n",
    "#### The day of the PhD defense is near!\n",
    "\n",
    "Your defense is set for tomorrow. *No panic!* Let's go together through all your data and results to be sure that everything is in place. \n",
    "\n",
    "All the data you collected are in the *bcell_data.csv* file. You managed to collect 100 different samples. For each sample, you recorded whether it is composed of pre-B cells or immature naive B cells, the sex of the donor, as well as the expression level of the IKZF1, MYC and MAPK1 genes."
   ]
  },
  {
   "cell_type": "code",
   "execution_count": 150,
   "metadata": {
    "deletable": false,
    "nbgrader": {
     "cell_type": "code",
     "checksum": "c6e8f0fcfd105a02ba5106f3d30a22f1",
     "grade": false,
     "grade_id": "cell-bcda027e03c66e3b",
     "locked": false,
     "schema_version": 3,
     "solution": true,
     "task": false
    }
   },
   "outputs": [
    {
     "name": "stdout",
     "output_type": "stream",
     "text": [
      "Data successfully loaded. First 5 rows:\n",
      "       cell_type     sex      IKZF1        MYC      MAPK1\n",
      "sample                                                   \n",
      "s1          preB  female  17.232815  17.256758   8.864175\n",
      "s2          preB    male  11.938779  12.497435   3.871096\n",
      "s3          preB  female  10.153002  10.834510  10.789578\n",
      "s4          preB    male  12.516865  12.115241   7.177412\n",
      "s5          preB  female  11.231450  12.074468   3.356356\n"
     ]
    }
   ],
   "source": [
    "# loading packages\n",
    "import numpy as np\n",
    "import pandas as pd\n",
    "\n",
    "# exercise: read the bcell_data.csv file from the \"./data\" folder \n",
    "# and store the data frame in the variable \"data\". \n",
    "# The row names are on the first column of the file.\n",
    "data = pd.read_csv('./data/bcell_data.csv', index_col=0)\n",
    "\n",
    "# this shows the contents of data frame\n",
    "print(\"Data successfully loaded. First 5 rows:\")\n",
    "print(data.head())\n"
   ]
  },
  {
   "cell_type": "code",
   "execution_count": 151,
   "metadata": {
    "deletable": false,
    "editable": false,
    "nbgrader": {
     "cell_type": "code",
     "checksum": "81d9cb786c8e1bc439305152b891e177",
     "grade": true,
     "grade_id": "cell-fe2663e36c7413f9",
     "locked": true,
     "points": 5,
     "schema_version": 3,
     "solution": false,
     "task": false
    }
   },
   "outputs": [],
   "source": [
    "# tip: the \"read_csv\" function has an \"index_col\" parameter"
   ]
  },
  {
   "cell_type": "markdown",
   "metadata": {
    "deletable": false,
    "editable": false,
    "nbgrader": {
     "cell_type": "markdown",
     "checksum": "1e0a331c4f1a5c6df96cb2c4692ad9c4",
     "grade": false,
     "grade_id": "cell-b425bea4b1a028ba",
     "locked": true,
     "schema_version": 3,
     "solution": false,
     "task": false
    }
   },
   "source": [
    "Great, let's make a table that subdivides the samples according to `cell_type` and `sex`"
   ]
  },
  {
   "cell_type": "code",
   "execution_count": 152,
   "metadata": {
    "deletable": false,
    "nbgrader": {
     "cell_type": "code",
     "checksum": "a6bda38ab6af254adcd3a5f27d155034",
     "grade": false,
     "grade_id": "cell-b7df767df841f942",
     "locked": false,
     "schema_version": 3,
     "solution": true,
     "task": false
    }
   },
   "outputs": [
    {
     "name": "stdout",
     "output_type": "stream",
     "text": [
      "Crosstab of samples by cell type and sex:\n",
      "sex        female  male\n",
      "cell_type              \n",
      "immatureB      25    25\n",
      "preB           25    25\n"
     ]
    }
   ],
   "source": [
    "# exercise: use the \"crosstab\" funtion for computing how many samples there are\n",
    "# for each combination of cell_type and sex values\n",
    "type_x_sex = pd.crosstab(data['cell_type'], data['sex'])\n",
    "\n",
    "print(\"Crosstab of samples by cell type and sex:\")\n",
    "print(type_x_sex)\n"
   ]
  },
  {
   "cell_type": "code",
   "execution_count": 153,
   "metadata": {
    "deletable": false,
    "editable": false,
    "nbgrader": {
     "cell_type": "code",
     "checksum": "fb2ab83fe9b8e88b913c934a50da53d4",
     "grade": true,
     "grade_id": "cell-56a299e829e57a35",
     "locked": true,
     "points": 5,
     "schema_version": 3,
     "solution": false,
     "task": false
    }
   },
   "outputs": [],
   "source": [
    "# tip: we saw the \"crosstab\" function in the coding lessons :-)"
   ]
  },
  {
   "cell_type": "markdown",
   "metadata": {
    "deletable": false,
    "editable": false,
    "nbgrader": {
     "cell_type": "markdown",
     "checksum": "bcdf187c40032e447268baf656adce51",
     "grade": false,
     "grade_id": "cell-38a97d937b61a075",
     "locked": true,
     "schema_version": 3,
     "solution": false,
     "task": false
    }
   },
   "source": [
    "Your experiment is perfectly balanced, good! Let's now explore the gene expression levels, starting with visualizing them as boxplot"
   ]
  },
  {
   "cell_type": "code",
   "execution_count": 154,
   "metadata": {
    "deletable": false,
    "editable": false,
    "nbgrader": {
     "cell_type": "code",
     "checksum": "48b3815ba598cbfb2a4c9f792b8d7c43",
     "grade": false,
     "grade_id": "cell-f53a794c0d20a283",
     "locked": true,
     "schema_version": 3,
     "solution": false,
     "task": false
    }
   },
   "outputs": [
    {
     "data": {
      "text/plain": [
       "<matplotlib.axes._subplots.AxesSubplot at 0x716a63fc6250>"
      ]
     },
     "execution_count": 154,
     "metadata": {},
     "output_type": "execute_result"
    },
    {
     "data": {
      "image/png": "[encoded data removed]",
      "text/plain": [
       "<Figure size 432x288 with 1 Axes>"
      ]
     },
     "metadata": {
      "needs_background": "light"
     },
     "output_type": "display_data"
    }
   ],
   "source": [
    "# boxplot for the gene expression values\n",
    "data.boxplot()"
   ]
  },
  {
   "cell_type": "markdown",
   "metadata": {
    "deletable": false,
    "editable": false,
    "nbgrader": {
     "cell_type": "markdown",
     "checksum": "c1f52f2f8a44a416d395a146c3e2faea",
     "grade": false,
     "grade_id": "cell-6a23cf6fcd35438a",
     "locked": true,
     "schema_version": 3,
     "solution": false,
     "task": false
    }
   },
   "source": [
    "It seems that there is an outlier in the MAPK1 column! Can you set that extreme value to NaN?"
   ]
  },
  {
   "cell_type": "code",
   "execution_count": 155,
   "metadata": {
    "deletable": false,
    "nbgrader": {
     "cell_type": "code",
     "checksum": "76e5dc7c71a38829144f477d03ba29b6",
     "grade": false,
     "grade_id": "cell-d15bcea6d21dee7a",
     "locked": false,
     "schema_version": 3,
     "solution": true,
     "task": false
    }
   },
   "outputs": [
    {
     "name": "stdout",
     "output_type": "stream",
     "text": [
      "\n",
      "Outlier values in MAPK1 column set to NaN.\n",
      "New max value for MAPK1: 12.881950900000001\n"
     ]
    }
   ],
   "source": [
    "\n",
    "# exercise: set any value in MAPK1 that is larger than 1000 to NaN\n",
    "data.loc[data['MAPK1'] > 1000, 'MAPK1'] = np.nan\n",
    "\n",
    "print(\"\\nOutlier values in MAPK1 column set to NaN.\")\n",
    "# You can verify by checking the max value now\n",
    "print(f\"New max value for MAPK1: {data['MAPK1'].max()}\")\n"
   ]
  },
  {
   "cell_type": "code",
   "execution_count": 156,
   "metadata": {
    "deletable": false,
    "editable": false,
    "nbgrader": {
     "cell_type": "code",
     "checksum": "9a7afae2f0961b74bc471754ef29cc9b",
     "grade": true,
     "grade_id": "cell-433901fb8b0cb1d8",
     "locked": true,
     "points": 5,
     "schema_version": 3,
     "solution": false,
     "task": false
    }
   },
   "outputs": [],
   "source": [
    "# tip: you first need to finds the MAPK1 values larger than 1000, and then you must set them to NaN"
   ]
  },
  {
   "cell_type": "markdown",
   "metadata": {
    "deletable": false,
    "editable": false,
    "nbgrader": {
     "cell_type": "markdown",
     "checksum": "215b46473e945641068a9bf7625ca35e",
     "grade": false,
     "grade_id": "cell-20186e5307be607e",
     "locked": true,
     "schema_version": 3,
     "solution": false,
     "task": false
    }
   },
   "source": [
    "Let's check if you successfully removed the outlier! "
   ]
  },
  {
   "cell_type": "code",
   "execution_count": 157,
   "metadata": {},
   "outputs": [
    {
     "name": "stdout",
     "output_type": "stream",
     "text": [
      "\n",
      "Number of missing values per column:\n",
      "cell_type    0\n",
      "sex          0\n",
      "IKZF1        1\n",
      "MYC          1\n",
      "MAPK1        1\n",
      "dtype: int64\n"
     ]
    }
   ],
   "source": [
    "# exercise: compute the number of missing value for each column\n",
    "num_na = data.isna().sum()\n",
    "\n",
    "print(\"\\nNumber of missing values per column:\")\n",
    "print(num_na)\n"
   ]
  },
  {
   "cell_type": "markdown",
   "metadata": {
    "deletable": false,
    "editable": false,
    "nbgrader": {
     "cell_type": "markdown",
     "checksum": "9f7869eae5cca4a9cd44ce0a8abc4f8c",
     "grade": false,
     "grade_id": "cell-c68c1392dff47d65",
     "locked": true,
     "schema_version": 3,
     "solution": false,
     "task": false
    }
   },
   "source": [
    "If you can distintively see three boxplots then you successfully removed the outlier."
   ]
  },
  {
   "cell_type": "markdown",
   "metadata": {
    "deletable": false,
    "editable": false,
    "nbgrader": {
     "cell_type": "markdown",
     "checksum": "d1b21c7aa1fcaa730133c4477c898ab7",
     "grade": false,
     "grade_id": "cell-ed5c6ec648a4054c",
     "locked": true,
     "schema_version": 3,
     "solution": false,
     "task": false
    }
   },
   "source": [
    "We now have introduced at least one NaN value in the MAPK1 column. Can you detect how many missing values there are for each column?"
   ]
  },
  {
   "cell_type": "code",
   "execution_count": 158,
   "metadata": {
    "deletable": false,
    "nbgrader": {
     "cell_type": "code",
     "checksum": "b73ee38460693bdd2871587d0401121e",
     "grade": false,
     "grade_id": "cell-06d9d1dd39d8267a",
     "locked": false,
     "schema_version": 3,
     "solution": true,
     "task": false
    }
   },
   "outputs": [
    {
     "name": "stdout",
     "output_type": "stream",
     "text": [
      "\n",
      "Missing values after imputation:\n",
      "cell_type    0\n",
      "sex          0\n",
      "IKZF1        0\n",
      "MYC          0\n",
      "MAPK1        0\n",
      "dtype: int64\n"
     ]
    }
   ],
   "source": [
    "# let's create a copy of data, namely \"imputed_data\"\n",
    "imputed_data = data.copy()\n",
    "\n",
    "# exercise: replace missing values in imputed_data with the average of their respective columns\n",
    "# A clean way is to calculate the means of numeric columns and pass that to fillna\n",
    "imputed_data.fillna(imputed_data.mean(numeric_only=True), inplace=True)\n",
    "\n",
    "# let's check that no missing data are present anymore in imputed_data\n",
    "print(\"\\nMissing values after imputation:\")\n",
    "print(imputed_data.isna().sum())\n"
   ]
  },
  {
   "cell_type": "code",
   "execution_count": 159,
   "metadata": {
    "deletable": false,
    "editable": false,
    "nbgrader": {
     "cell_type": "code",
     "checksum": "dafb31156615d9e41aeb76c2468349dd",
     "grade": true,
     "grade_id": "cell-95926ea0a6f8a37a",
     "locked": true,
     "points": 5,
     "schema_version": 3,
     "solution": false,
     "task": false
    }
   },
   "outputs": [],
   "source": [
    "# tip: try to combine the \"isna\" and \"sum\" methods"
   ]
  },
  {
   "cell_type": "markdown",
   "metadata": {
    "deletable": false,
    "editable": false,
    "nbgrader": {
     "cell_type": "markdown",
     "checksum": "fb0aea3171f3dde5e418a864aea055cb",
     "grade": false,
     "grade_id": "cell-24ead6e845c3b9b0",
     "locked": true,
     "schema_version": 3,
     "solution": false,
     "task": false
    }
   },
   "source": [
    "It seems we have some missing value in the numeric columns. Can you replace them with the average of their respective columns?"
   ]
  },
  {
   "cell_type": "code",
   "execution_count": 160,
   "metadata": {
    "deletable": false,
    "nbgrader": {
     "cell_type": "code",
     "checksum": "907c642c69606dc859823b5485bf7377",
     "grade": false,
     "grade_id": "cell-bc0be0cae6930338",
     "locked": false,
     "schema_version": 3,
     "solution": true,
     "task": false
    }
   },
   "outputs": [
    {
     "name": "stdout",
     "output_type": "stream",
     "text": [
      "\n",
      "Calculated T-statistics:\n",
      "IKZF1    5.012358\n",
      "MYC      4.904619\n",
      "MAPK1    1.194541\n",
      "dtype: float64\n"
     ]
    }
   ],
   "source": [
    "# this function computes the t-statistic for a numeric vector according to a binary factor\n",
    "def t_statistic(v, f) :\n",
    "    \n",
    "    # factor unique values\n",
    "    uv = f.unique()\n",
    "    if len(uv) != 2:\n",
    "        return np.nan # Not a binary factor\n",
    "\n",
    "    # splitting the vector according to the factor values\n",
    "    v1 = v[f == uv[0]]\n",
    "    v2 = v[f == uv[1]]\n",
    "    \n",
    "    # t-statistic using Welch's t-test formula with sample standard deviation (ddof=1)\n",
    "    mean1, mean2 = np.mean(v1), np.mean(v2)\n",
    "    std1, std2 = np.std(v1, ddof=1), np.std(v2, ddof=1)\n",
    "    n1, n2 = len(v1), len(v2)\n",
    "\n",
    "    # Avoid division by zero if a group is empty or has one member\n",
    "    if n1 < 2 or n2 < 2:\n",
    "        return np.nan\n",
    "        \n",
    "    denominator = np.sqrt(std1**2 / n1 + std2**2 / n2)\n",
    "    if denominator == 0:\n",
    "        return np.nan\n",
    "\n",
    "    return (mean1 - mean2) / denominator\n",
    "\n",
    "# exercise: use the \"apply\" method for applying the t_statistic function to each numerical column.\n",
    "# Use cell type as binary factor (argument f)\n",
    "\n",
    "numerical_cols = ['IKZF1', 'MYC', 'MAPK1']\n",
    "\n",
    "# Apply the function, correctly handling potential missing values from the original 'data'\n",
    "res = data[numerical_cols].apply(\n",
    "    lambda col: t_statistic(\n",
    "        v=col.dropna(),\n",
    "        f=data.loc[col.dropna().index, 'cell_type']\n",
    "    )\n",
    ")\n",
    "\n",
    "print(\"\\nCalculated T-statistics:\")\n",
    "print(res)\n"
   ]
  },
  {
   "cell_type": "code",
   "execution_count": 161,
   "metadata": {
    "deletable": false,
    "editable": false,
    "nbgrader": {
     "cell_type": "code",
     "checksum": "20492a1e78c98774de6879b0f9081f1a",
     "grade": true,
     "grade_id": "cell-2d53e1de8a15700f",
     "locked": true,
     "points": 5,
     "schema_version": 3,
     "solution": false,
     "task": false
    }
   },
   "outputs": [],
   "source": [
    "# tip: the \"fillna\" method could be useful here"
   ]
  },
  {
   "cell_type": "markdown",
   "metadata": {
    "deletable": false,
    "editable": false,
    "nbgrader": {
     "cell_type": "markdown",
     "checksum": "bb680134e708ff0578e81aa99a52bf93",
     "grade": false,
     "grade_id": "cell-874f6071c076d66a",
     "locked": true,
     "schema_version": 3,
     "solution": false,
     "task": false
    }
   },
   "source": [
    "Time to better explore the data. Let's plot the distribution of the gene expression data subdivided by cell_type."
   ]
  },
  {
   "cell_type": "code",
   "execution_count": 162,
   "metadata": {
    "deletable": false,
    "editable": false,
    "nbgrader": {
     "cell_type": "code",
     "checksum": "72790bcdac9fb480e40b0e7541d76bc7",
     "grade": false,
     "grade_id": "cell-047621e489c6b592",
     "locked": true,
     "schema_version": 3,
     "solution": false,
     "task": false
    }
   },
   "outputs": [
    {
     "data": {
      "image/png": "[encoded data removed]",
      "text/plain": [
       "<Figure size 432x288 with 2 Axes>"
      ]
     },
     "metadata": {
      "needs_background": "light"
     },
     "output_type": "display_data"
    }
   ],
   "source": [
    "# distribution of the gene expression columns by cell_type\n",
    "tmp = data.groupby('cell_type').boxplot()"
   ]
  },
  {
   "cell_type": "markdown",
   "metadata": {
    "deletable": false,
    "editable": false,
    "nbgrader": {
     "cell_type": "markdown",
     "checksum": "d6bd8d6ace5483ab45c2d8b580da3657",
     "grade": false,
     "grade_id": "cell-423424e10ac26a98",
     "locked": true,
     "schema_version": 3,
     "solution": false,
     "task": false
    }
   },
   "source": [
    "It seems that the expression of IKZF1 and MYC is higher in the preB cells than in the immature ones. Let's compute a t statistic for assessing differences in a quantitative way."
   ]
  },
  {
   "cell_type": "code",
   "execution_count": 163,
   "metadata": {
    "deletable": false,
    "nbgrader": {
     "cell_type": "code",
     "checksum": "957cd1e66b9cfab8b6b0d655a5a560c0",
     "grade": false,
     "grade_id": "cell-dba71a50a319e668",
     "locked": false,
     "schema_version": 3,
     "solution": true,
     "task": false
    }
   },
   "outputs": [],
   "source": [
    "# this function computes the t-statistic for a numeric vector according to a binary factor\n",
    "def t_statistic(v, f) :\n",
    "    \n",
    "    # factor unique values\n",
    "    uv = list(set(f))\n",
    "    \n",
    "    # splitting the vector according to the factor values\n",
    "    v1 = v[list(f == uv[0])]\n",
    "    v2 = v[list(f == uv[1])]\n",
    "    \n",
    "    # t-statistic\n",
    "    return (np.mean(v1) - np.mean(v2)) / np.sqrt(np.std(v1) ** 2 / len(v1) + np.std(v2) ** 2 / len(v2) )\n",
    "\n",
    "# exercise: use the \"apply\" method for applying the t_statistic function to each numerical column.\n",
    "# Use cell type as binary factor (argument f)\n",
    "\n",
    "# res = ...\n"
   ]
  },
  {
   "cell_type": "code",
   "execution_count": 164,
   "metadata": {
    "deletable": false,
    "editable": false,
    "nbgrader": {
     "cell_type": "code",
     "checksum": "432d743a73cb14c45850b17737ec1240",
     "grade": true,
     "grade_id": "cell-fd2ebd9ddcf623a0",
     "locked": true,
     "points": 5,
     "schema_version": 3,
     "solution": false,
     "task": false
    }
   },
   "outputs": [],
   "source": [
    "# tip: you must use the \"apply\" method only on the numerical columns (IKZF1, MYC and MAPK1, in order)"
   ]
  },
  {
   "cell_type": "markdown",
   "metadata": {
    "deletable": false,
    "editable": false,
    "nbgrader": {
     "cell_type": "markdown",
     "checksum": "3719c6af393a95c0c88a2b36dd79247d",
     "grade": false,
     "grade_id": "cell-b526487b37d4fe7a",
     "locked": true,
     "schema_version": 3,
     "solution": false,
     "task": false
    }
   },
   "source": [
    "If your computations are correct, you will find that the t-statistics for IKZF1 and MYC are largely beyond the critical value of 1.96 (corresponding to a p-value of 0.05). Once again, you have demonstrated the validity of your findings! You can sleep tight, tomorrow defense will be a success :-)"
   ]
  },
  {
   "cell_type": "code",
   "execution_count": null,
   "metadata": {},
   "outputs": [],
   "source": []
  },
  {
   "cell_type": "code",
   "execution_count": null,
   "metadata": {},
   "outputs": [],
   "source": []
  },
  {
   "cell_type": "code",
   "execution_count": null,
   "metadata": {},
   "outputs": [],
   "source": []
  },
  {
   "cell_type": "code",
   "execution_count": null,
   "metadata": {},
   "outputs": [],
   "source": []
  },
  {
   "cell_type": "code",
   "execution_count": null,
   "metadata": {},
   "outputs": [],
   "source": []
  }
 ],
 "metadata": {
  "kernelspec": {
   "display_name": "Python 3",
   "language": "python",
   "name": "python3"
  },
  "language_info": {
   "codemirror_mode": {
    "name": "ipython",
    "version": 3
   },
   "file_extension": ".py",
   "mimetype": "text/x-python",
   "name": "python",
   "nbconvert_exporter": "python",
   "pygments_lexer": "ipython3",
   "version": "3.7.6"
  }
 },
 "nbformat": 4,
 "nbformat_minor": 4
}
