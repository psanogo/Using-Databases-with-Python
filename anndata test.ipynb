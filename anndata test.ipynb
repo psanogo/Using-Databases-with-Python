{
 "cells": [
  {
   "cell_type": "markdown",
   "metadata": {
    "deletable": false,
    "editable": false,
    "nbgrader": {
     "cell_type": "markdown",
     "checksum": "86534132cb0440aa063e3f132e103f4c",
     "grade": false,
     "grade_id": "cell-6061adf3d375ad75",
     "locked": true,
     "schema_version": 3,
     "solution": false,
     "task": false
    }
   },
   "source": [
    "## The anndata package\n",
    "\n",
    "### Students notebook"
   ]
  },
  {
   "cell_type": "markdown",
   "metadata": {
    "deletable": false,
    "editable": false,
    "nbgrader": {
     "cell_type": "markdown",
     "checksum": "e842f2c2e66d4fb3f3562d49e5d617b0",
     "grade": false,
     "grade_id": "cell-43fad46ab4c8706f",
     "locked": true,
     "schema_version": 3,
     "solution": false,
     "task": false
    }
   },
   "source": [
    "#### Organizing single cell data in Python\n",
    "\n",
    "This notebook is the first one of a series where you will replicate some of the analysis presented in the coding lectures on the T-cell use case, this time using iTReg-activated T-cells rather than the resting ones. Let's start!"
   ]
  },
  {
   "cell_type": "code",
   "execution_count": 31,
   "metadata": {
    "deletable": false,
    "editable": false,
    "nbgrader": {
     "cell_type": "code",
     "checksum": "99164d5665b8f1fbc85cdfe31edb4842",
     "grade": false,
     "grade_id": "cell-1d2a63e6a6d4ac69",
     "locked": true,
     "schema_version": 3,
     "solution": false,
     "task": false
    }
   },
   "outputs": [],
   "source": [
    "# importing anndata, numpy and pandas as we did in the coding lectures\n",
    "import anndata as ad\n",
    "import numpy as np\n",
    "import pandas as pd"
   ]
  },
  {
   "cell_type": "code",
   "execution_count": 32,
   "metadata": {
    "deletable": false,
    "nbgrader": {
     "cell_type": "code",
     "checksum": "83a7be9ed07b1cc98789f7d9867d2072",
     "grade": false,
     "grade_id": "cell-533feb17625268ea",
     "locked": false,
     "schema_version": 3,
     "solution": true,
     "task": false
    }
   },
   "outputs": [
    {
     "name": "stdout",
     "output_type": "stream",
     "text": [
      "AnnData object loaded:\n",
      "AnnData object with n_obs × n_vars = 500 × 20953\n",
      "\n",
      "Cell metadata loaded:\n",
      "                           cell.type cytokine.condition donor.id  batch.10X  \\\n",
      "N_Th2_r1_GCATACACAGTAGAGC      Naive                Th2       D3          1   \n",
      "N_Th2_r1_TAGAGCTGTTAAGATG      Naive                Th2       D2          1   \n",
      "M_Th17_r1_TCTTTCCAGCACGCCT    Memory               Th17       D3          1   \n",
      "M_Th17_r2_GAGGTGACAGGCGATA    Memory               Th17       D3          2   \n",
      "N_Th17_r1_CTCGTACAGTGGCACA     Naive               Th17       D2          1   \n",
      "\n",
      "                            nGene   nUMI  percent.mito   S.Score  G2M.Score  \\\n",
      "N_Th2_r1_GCATACACAGTAGAGC    2890  15616      0.052834 -0.141680  -0.229996   \n",
      "N_Th2_r1_TAGAGCTGTTAAGATG    3672  18645      0.040603  0.009671  -0.051532   \n",
      "M_Th17_r1_TCTTTCCAGCACGCCT   4375  19334      0.019609 -0.239274  -0.278496   \n",
      "M_Th17_r2_GAGGTGACAGGCGATA   3714  18852      0.036336  0.111576   0.663065   \n",
      "N_Th17_r1_CTCGTACAGTGGCACA   1899   7193      0.015434 -0.138268  -0.193798   \n",
      "\n",
      "                           Phase cluster.id  effectorness  \n",
      "N_Th2_r1_GCATACACAGTAGAGC     G1         TN      0.359369  \n",
      "N_Th2_r1_TAGAGCTGTTAAGATG      S         TN      0.330299  \n",
      "M_Th17_r1_TCTTTCCAGCACGCCT    G1        TEM      0.084227  \n",
      "M_Th17_r2_GAGGTGACAGGCGATA   G2M        TCM      0.566855  \n",
      "N_Th17_r1_CTCGTACAGTGGCACA    G1         TN      0.365239  \n",
      "\n",
      "AnnData object with updated .obs attribute:\n",
      "                           cell.type cytokine.condition donor.id  batch.10X  \\\n",
      "N_Th2_r1_GCATACACAGTAGAGC      Naive                Th2       D3          1   \n",
      "N_Th2_r1_TAGAGCTGTTAAGATG      Naive                Th2       D2          1   \n",
      "M_Th17_r1_TCTTTCCAGCACGCCT    Memory               Th17       D3          1   \n",
      "M_Th17_r2_GAGGTGACAGGCGATA    Memory               Th17       D3          2   \n",
      "N_Th17_r1_CTCGTACAGTGGCACA     Naive               Th17       D2          1   \n",
      "\n",
      "                            nGene   nUMI  percent.mito   S.Score  G2M.Score  \\\n",
      "N_Th2_r1_GCATACACAGTAGAGC    2890  15616      0.052834 -0.141680  -0.229996   \n",
      "N_Th2_r1_TAGAGCTGTTAAGATG    3672  18645      0.040603  0.009671  -0.051532   \n",
      "M_Th17_r1_TCTTTCCAGCACGCCT   4375  19334      0.019609 -0.239274  -0.278496   \n",
      "M_Th17_r2_GAGGTGACAGGCGATA   3714  18852      0.036336  0.111576   0.663065   \n",
      "N_Th17_r1_CTCGTACAGTGGCACA   1899   7193      0.015434 -0.138268  -0.193798   \n",
      "\n",
      "                           Phase cluster.id  effectorness  \n",
      "N_Th2_r1_GCATACACAGTAGAGC     G1         TN      0.359369  \n",
      "N_Th2_r1_TAGAGCTGTTAAGATG      S         TN      0.330299  \n",
      "M_Th17_r1_TCTTTCCAGCACGCCT    G1        TEM      0.084227  \n",
      "M_Th17_r2_GAGGTGACAGGCGATA   G2M        TCM      0.566855  \n",
      "N_Th17_r1_CTCGTACAGTGGCACA    G1         TN      0.365239  \n",
      "\n",
      "Unique cell types found: ['TN', 'TEM', 'TCM', 'TEMRA']\n"
     ]
    },
    {
     "name": "stderr",
     "output_type": "stream",
     "text": [
      "... storing 'cell.type' as categorical\n",
      "... storing 'cytokine.condition' as categorical\n",
      "... storing 'donor.id' as categorical\n",
      "... storing 'Phase' as categorical\n",
      "... storing 'cluster.id' as categorical\n"
     ]
    },
    {
     "name": "stdout",
     "output_type": "stream",
     "text": [
      "\n",
      "QC metrics calculated and added to scde.obs:\n",
      "                            n_genes_by_counts  total_counts\n",
      "N_Th2_r1_GCATACACAGTAGAGC                2889       15615.0\n",
      "N_Th2_r1_TAGAGCTGTTAAGATG                3671       18644.0\n",
      "M_Th17_r1_TCTTTCCAGCACGCCT               4370       19328.0\n",
      "M_Th17_r2_GAGGTGACAGGCGATA               3714       18852.0\n",
      "N_Th17_r1_CTCGTACAGTGGCACA               1898        7192.0\n",
      "\n",
      "Number of cells after filtering: 424\n",
      "\n",
      "Removed existing 'scder.h5ad' file.\n",
      "Filtered AnnData object saved to './data/scder.h5ad'.\n"
     ]
    }
   ],
   "source": [
    "# importing anndata, numpy and pandas as we did in the coding lectures\n",
    "import anndata as ad\n",
    "import numpy as np\n",
    "import pandas as pd\n",
    "import os\n",
    "import scanpy as sc\n",
    "\n",
    "# exercise: read the scRNA-seq dataset from the './data/scde.h5ad' file and name it \"scde\"\n",
    "# The ad.read_h5ad function is the standard way to load AnnData objects.\n",
    "scde = ad.read_h5ad('./data/scde.h5ad')\n",
    "\n",
    "print(\"AnnData object loaded:\")\n",
    "print(scde)\n",
    "# ---\n",
    "# exercise: read the ./data/obs.csv file into a pandas data frame called obs\n",
    "# We use pandas to read the cell metadata, specifying the first column (index 0) as the index.\n",
    "obs = pd.read_csv('./data/obs.csv', index_col=0)\n",
    "\n",
    "print(\"\\nCell metadata loaded:\")\n",
    "print(obs.head())\n",
    "# exercise: assign the obs data frame to scde.obs\n",
    "# Now, we attach the loaded metadata directly to our AnnData object's .obs attribute.\n",
    "scde.obs = obs\n",
    "\n",
    "print(\"\\nAnnData object with updated .obs attribute:\")\n",
    "print(scde.obs.head())\n",
    "# ---\n",
    "# exercise: create a list indicating the cell types contained in the cluster.id column of obs.\n",
    "# The .unique() method finds all unique entries, and .tolist() converts them to a Python list.\n",
    "cell_types = scde.obs['cluster.id'].unique().tolist()\n",
    "\n",
    "print(f\"\\nUnique cell types found: {cell_types}\")\n",
    "# ---\n",
    "\n",
    "# A more standard approach using scanpy for QC\n",
    "# This function calculates total_counts (same as your num_reads) and other metrics\n",
    "sc.pp.calculate_qc_metrics(scde, inplace=True)\n",
    "\n",
    "print(\"\\nQC metrics calculated and added to scde.obs:\")\n",
    "print(scde.obs[['n_genes_by_counts', 'total_counts']].head())\n",
    "\n",
    "# exercise: remove cells with less than 10000 reads in total.\n",
    "# We can now filter directly using the 'total_counts' column in .obs\n",
    "scder = scde[scde.obs['total_counts'] >= 10000, :].copy()\n",
    "\n",
    "print(f\"\\nNumber of cells after filtering: {scder.n_obs}\")\n",
    "# ---\n",
    "# making sure the 'scdr.h5ad' file is not on the disk already\n",
    "if os.path.isfile('./data/scder.h5ad'):\n",
    "    os.remove('./data/scder.h5ad')\n",
    "    print(\"\\nRemoved existing 'scder.h5ad' file.\")\n",
    "# exercise: save the new scanpy object in a file named './data/scder.h5ad'\n",
    "# The .write() method is used to save the AnnData object to a file.\n",
    "scder.write('./data/scder.h5ad')\n",
    "\n",
    "print(\"Filtered AnnData object saved to './data/scder.h5ad'.\")"
   ]
  },
  {
   "cell_type": "code",
   "execution_count": 33,
   "metadata": {
    "deletable": false,
    "editable": false,
    "nbgrader": {
     "cell_type": "code",
     "checksum": "0f0fef63e789bb53ee928249be9bf7ce",
     "grade": true,
     "grade_id": "cell-2601a93462f22c90",
     "locked": true,
     "points": 5,
     "schema_version": 3,
     "solution": false,
     "task": false
    }
   },
   "outputs": [],
   "source": [
    "# tip: use the scanpy function for reading h5ad files!\n"
   ]
  },
  {
   "cell_type": "markdown",
   "metadata": {
    "deletable": false,
    "editable": false,
    "nbgrader": {
     "cell_type": "markdown",
     "checksum": "5c954bdb7d7f62985127c12601f113b8",
     "grade": false,
     "grade_id": "cell-96a14b7865b51bae",
     "locked": true,
     "schema_version": 3,
     "solution": false,
     "task": false
    }
   },
   "source": [
    "Note that we have only 500 cells; this will allow us to proceed with the analysis faster.\n",
    "Let's check the `obs` data frame:"
   ]
  },
  {
   "cell_type": "code",
   "execution_count": 34,
   "metadata": {
    "deletable": false,
    "editable": false,
    "nbgrader": {
     "cell_type": "code",
     "checksum": "aab94fef3bb9b0343a4f37d45333a517",
     "grade": false,
     "grade_id": "cell-f9d69777d54ce5af",
     "locked": true,
     "schema_version": 3,
     "solution": false,
     "task": false
    }
   },
   "outputs": [
    {
     "data": {
      "text/html": [
       "<div>\n",
       "<style scoped>\n",
       "    .dataframe tbody tr th:only-of-type {\n",
       "        vertical-align: middle;\n",
       "    }\n",
       "\n",
       "    .dataframe tbody tr th {\n",
       "        vertical-align: top;\n",
       "    }\n",
       "\n",
       "    .dataframe thead th {\n",
       "        text-align: right;\n",
       "    }\n",
       "</style>\n",
       "<table border=\"1\" class=\"dataframe\">\n",
       "  <thead>\n",
       "    <tr style=\"text-align: right;\">\n",
       "      <th></th>\n",
       "      <th>cell.type</th>\n",
       "      <th>cytokine.condition</th>\n",
       "      <th>donor.id</th>\n",
       "      <th>batch.10X</th>\n",
       "      <th>nGene</th>\n",
       "      <th>nUMI</th>\n",
       "      <th>percent.mito</th>\n",
       "      <th>S.Score</th>\n",
       "      <th>G2M.Score</th>\n",
       "      <th>Phase</th>\n",
       "      <th>cluster.id</th>\n",
       "      <th>effectorness</th>\n",
       "      <th>n_genes_by_counts</th>\n",
       "      <th>log1p_n_genes_by_counts</th>\n",
       "      <th>total_counts</th>\n",
       "      <th>log1p_total_counts</th>\n",
       "      <th>pct_counts_in_top_50_genes</th>\n",
       "      <th>pct_counts_in_top_100_genes</th>\n",
       "      <th>pct_counts_in_top_200_genes</th>\n",
       "      <th>pct_counts_in_top_500_genes</th>\n",
       "    </tr>\n",
       "  </thead>\n",
       "  <tbody>\n",
       "    <tr>\n",
       "      <th>N_Th2_r1_GCATACACAGTAGAGC</th>\n",
       "      <td>Naive</td>\n",
       "      <td>Th2</td>\n",
       "      <td>D3</td>\n",
       "      <td>1</td>\n",
       "      <td>2890</td>\n",
       "      <td>15616</td>\n",
       "      <td>0.052834</td>\n",
       "      <td>-0.141680</td>\n",
       "      <td>-0.229996</td>\n",
       "      <td>G1</td>\n",
       "      <td>TN</td>\n",
       "      <td>0.359369</td>\n",
       "      <td>2889</td>\n",
       "      <td>7.969012</td>\n",
       "      <td>15615.0</td>\n",
       "      <td>9.656052</td>\n",
       "      <td>43.944925</td>\n",
       "      <td>62.747358</td>\n",
       "      <td>71.386487</td>\n",
       "      <td>79.750240</td>\n",
       "    </tr>\n",
       "    <tr>\n",
       "      <th>N_Th2_r1_TAGAGCTGTTAAGATG</th>\n",
       "      <td>Naive</td>\n",
       "      <td>Th2</td>\n",
       "      <td>D2</td>\n",
       "      <td>1</td>\n",
       "      <td>3672</td>\n",
       "      <td>18645</td>\n",
       "      <td>0.040603</td>\n",
       "      <td>0.009671</td>\n",
       "      <td>-0.051532</td>\n",
       "      <td>S</td>\n",
       "      <td>TN</td>\n",
       "      <td>0.330299</td>\n",
       "      <td>3671</td>\n",
       "      <td>8.208492</td>\n",
       "      <td>18644.0</td>\n",
       "      <td>9.833333</td>\n",
       "      <td>37.851319</td>\n",
       "      <td>53.320103</td>\n",
       "      <td>62.953229</td>\n",
       "      <td>73.476722</td>\n",
       "    </tr>\n",
       "    <tr>\n",
       "      <th>M_Th17_r1_TCTTTCCAGCACGCCT</th>\n",
       "      <td>Memory</td>\n",
       "      <td>Th17</td>\n",
       "      <td>D3</td>\n",
       "      <td>1</td>\n",
       "      <td>4375</td>\n",
       "      <td>19334</td>\n",
       "      <td>0.019609</td>\n",
       "      <td>-0.239274</td>\n",
       "      <td>-0.278496</td>\n",
       "      <td>G1</td>\n",
       "      <td>TEM</td>\n",
       "      <td>0.084227</td>\n",
       "      <td>4370</td>\n",
       "      <td>8.382747</td>\n",
       "      <td>19328.0</td>\n",
       "      <td>9.869362</td>\n",
       "      <td>28.119826</td>\n",
       "      <td>40.599131</td>\n",
       "      <td>50.077608</td>\n",
       "      <td>62.805257</td>\n",
       "    </tr>\n",
       "    <tr>\n",
       "      <th>M_Th17_r2_GAGGTGACAGGCGATA</th>\n",
       "      <td>Memory</td>\n",
       "      <td>Th17</td>\n",
       "      <td>D3</td>\n",
       "      <td>2</td>\n",
       "      <td>3714</td>\n",
       "      <td>18852</td>\n",
       "      <td>0.036336</td>\n",
       "      <td>0.111576</td>\n",
       "      <td>0.663065</td>\n",
       "      <td>G2M</td>\n",
       "      <td>TCM</td>\n",
       "      <td>0.566855</td>\n",
       "      <td>3714</td>\n",
       "      <td>8.220134</td>\n",
       "      <td>18852.0</td>\n",
       "      <td>9.844427</td>\n",
       "      <td>32.601316</td>\n",
       "      <td>46.387651</td>\n",
       "      <td>58.354551</td>\n",
       "      <td>70.878421</td>\n",
       "    </tr>\n",
       "    <tr>\n",
       "      <th>N_Th17_r1_CTCGTACAGTGGCACA</th>\n",
       "      <td>Naive</td>\n",
       "      <td>Th17</td>\n",
       "      <td>D2</td>\n",
       "      <td>1</td>\n",
       "      <td>1899</td>\n",
       "      <td>7193</td>\n",
       "      <td>0.015434</td>\n",
       "      <td>-0.138268</td>\n",
       "      <td>-0.193798</td>\n",
       "      <td>G1</td>\n",
       "      <td>TN</td>\n",
       "      <td>0.365239</td>\n",
       "      <td>1898</td>\n",
       "      <td>7.549083</td>\n",
       "      <td>7192.0</td>\n",
       "      <td>8.880863</td>\n",
       "      <td>42.171858</td>\n",
       "      <td>55.478309</td>\n",
       "      <td>65.600667</td>\n",
       "      <td>77.989433</td>\n",
       "    </tr>\n",
       "    <tr>\n",
       "      <th>...</th>\n",
       "      <td>...</td>\n",
       "      <td>...</td>\n",
       "      <td>...</td>\n",
       "      <td>...</td>\n",
       "      <td>...</td>\n",
       "      <td>...</td>\n",
       "      <td>...</td>\n",
       "      <td>...</td>\n",
       "      <td>...</td>\n",
       "      <td>...</td>\n",
       "      <td>...</td>\n",
       "      <td>...</td>\n",
       "      <td>...</td>\n",
       "      <td>...</td>\n",
       "      <td>...</td>\n",
       "      <td>...</td>\n",
       "      <td>...</td>\n",
       "      <td>...</td>\n",
       "      <td>...</td>\n",
       "      <td>...</td>\n",
       "    </tr>\n",
       "    <tr>\n",
       "      <th>M_iTreg_r2_GTGGGTCAGTGGGATC</th>\n",
       "      <td>Memory</td>\n",
       "      <td>iTreg</td>\n",
       "      <td>D2</td>\n",
       "      <td>2</td>\n",
       "      <td>4466</td>\n",
       "      <td>25602</td>\n",
       "      <td>0.047889</td>\n",
       "      <td>0.137482</td>\n",
       "      <td>-0.198448</td>\n",
       "      <td>S</td>\n",
       "      <td>TCM</td>\n",
       "      <td>0.905753</td>\n",
       "      <td>4465</td>\n",
       "      <td>8.404248</td>\n",
       "      <td>25601.0</td>\n",
       "      <td>10.150426</td>\n",
       "      <td>32.951838</td>\n",
       "      <td>46.822390</td>\n",
       "      <td>57.634467</td>\n",
       "      <td>69.692590</td>\n",
       "    </tr>\n",
       "    <tr>\n",
       "      <th>M_iTreg_r2_TCGAGGCGTCAAAGAT</th>\n",
       "      <td>Memory</td>\n",
       "      <td>iTreg</td>\n",
       "      <td>D4</td>\n",
       "      <td>2</td>\n",
       "      <td>4184</td>\n",
       "      <td>19147</td>\n",
       "      <td>0.023504</td>\n",
       "      <td>-0.272980</td>\n",
       "      <td>-0.257085</td>\n",
       "      <td>G1</td>\n",
       "      <td>TEM</td>\n",
       "      <td>0.879334</td>\n",
       "      <td>4183</td>\n",
       "      <td>8.339023</td>\n",
       "      <td>19146.0</td>\n",
       "      <td>9.859901</td>\n",
       "      <td>29.541419</td>\n",
       "      <td>41.643163</td>\n",
       "      <td>51.556461</td>\n",
       "      <td>64.378983</td>\n",
       "    </tr>\n",
       "    <tr>\n",
       "      <th>M_iTreg_r2_TCGCGAGGTGCAACTT</th>\n",
       "      <td>Memory</td>\n",
       "      <td>iTreg</td>\n",
       "      <td>D4</td>\n",
       "      <td>2</td>\n",
       "      <td>3823</td>\n",
       "      <td>15027</td>\n",
       "      <td>0.022027</td>\n",
       "      <td>0.413030</td>\n",
       "      <td>0.257933</td>\n",
       "      <td>S</td>\n",
       "      <td>TEM</td>\n",
       "      <td>0.888103</td>\n",
       "      <td>3823</td>\n",
       "      <td>8.249052</td>\n",
       "      <td>15027.0</td>\n",
       "      <td>9.617670</td>\n",
       "      <td>23.684035</td>\n",
       "      <td>33.453118</td>\n",
       "      <td>44.719505</td>\n",
       "      <td>60.730685</td>\n",
       "    </tr>\n",
       "    <tr>\n",
       "      <th>M_iTreg_r2_TCGTACCAGGTGGGTT</th>\n",
       "      <td>Memory</td>\n",
       "      <td>iTreg</td>\n",
       "      <td>D1</td>\n",
       "      <td>2</td>\n",
       "      <td>4054</td>\n",
       "      <td>15939</td>\n",
       "      <td>0.029238</td>\n",
       "      <td>0.395395</td>\n",
       "      <td>-0.088206</td>\n",
       "      <td>S</td>\n",
       "      <td>TEM</td>\n",
       "      <td>0.905234</td>\n",
       "      <td>4053</td>\n",
       "      <td>8.307459</td>\n",
       "      <td>15938.0</td>\n",
       "      <td>9.676524</td>\n",
       "      <td>27.926967</td>\n",
       "      <td>37.545489</td>\n",
       "      <td>48.437696</td>\n",
       "      <td>62.416865</td>\n",
       "    </tr>\n",
       "    <tr>\n",
       "      <th>M_iTreg_r2_TCTTCGGAGCTGCCCA</th>\n",
       "      <td>Memory</td>\n",
       "      <td>iTreg</td>\n",
       "      <td>D4</td>\n",
       "      <td>2</td>\n",
       "      <td>3204</td>\n",
       "      <td>13615</td>\n",
       "      <td>0.028282</td>\n",
       "      <td>-0.214179</td>\n",
       "      <td>-0.210391</td>\n",
       "      <td>G1</td>\n",
       "      <td>TEM</td>\n",
       "      <td>0.955858</td>\n",
       "      <td>3202</td>\n",
       "      <td>8.071843</td>\n",
       "      <td>13613.0</td>\n",
       "      <td>9.518854</td>\n",
       "      <td>34.187909</td>\n",
       "      <td>44.163667</td>\n",
       "      <td>55.322119</td>\n",
       "      <td>69.587894</td>\n",
       "    </tr>\n",
       "  </tbody>\n",
       "</table>\n",
       "<p>500 rows × 20 columns</p>\n",
       "</div>"
      ],
      "text/plain": [
       "                            cell.type cytokine.condition donor.id  batch.10X  \\\n",
       "N_Th2_r1_GCATACACAGTAGAGC       Naive                Th2       D3          1   \n",
       "N_Th2_r1_TAGAGCTGTTAAGATG       Naive                Th2       D2          1   \n",
       "M_Th17_r1_TCTTTCCAGCACGCCT     Memory               Th17       D3          1   \n",
       "M_Th17_r2_GAGGTGACAGGCGATA     Memory               Th17       D3          2   \n",
       "N_Th17_r1_CTCGTACAGTGGCACA      Naive               Th17       D2          1   \n",
       "...                               ...                ...      ...        ...   \n",
       "M_iTreg_r2_GTGGGTCAGTGGGATC    Memory              iTreg       D2          2   \n",
       "M_iTreg_r2_TCGAGGCGTCAAAGAT    Memory              iTreg       D4          2   \n",
       "M_iTreg_r2_TCGCGAGGTGCAACTT    Memory              iTreg       D4          2   \n",
       "M_iTreg_r2_TCGTACCAGGTGGGTT    Memory              iTreg       D1          2   \n",
       "M_iTreg_r2_TCTTCGGAGCTGCCCA    Memory              iTreg       D4          2   \n",
       "\n",
       "                             nGene   nUMI  percent.mito   S.Score  G2M.Score  \\\n",
       "N_Th2_r1_GCATACACAGTAGAGC     2890  15616      0.052834 -0.141680  -0.229996   \n",
       "N_Th2_r1_TAGAGCTGTTAAGATG     3672  18645      0.040603  0.009671  -0.051532   \n",
       "M_Th17_r1_TCTTTCCAGCACGCCT    4375  19334      0.019609 -0.239274  -0.278496   \n",
       "M_Th17_r2_GAGGTGACAGGCGATA    3714  18852      0.036336  0.111576   0.663065   \n",
       "N_Th17_r1_CTCGTACAGTGGCACA    1899   7193      0.015434 -0.138268  -0.193798   \n",
       "...                            ...    ...           ...       ...        ...   \n",
       "M_iTreg_r2_GTGGGTCAGTGGGATC   4466  25602      0.047889  0.137482  -0.198448   \n",
       "M_iTreg_r2_TCGAGGCGTCAAAGAT   4184  19147      0.023504 -0.272980  -0.257085   \n",
       "M_iTreg_r2_TCGCGAGGTGCAACTT   3823  15027      0.022027  0.413030   0.257933   \n",
       "M_iTreg_r2_TCGTACCAGGTGGGTT   4054  15939      0.029238  0.395395  -0.088206   \n",
       "M_iTreg_r2_TCTTCGGAGCTGCCCA   3204  13615      0.028282 -0.214179  -0.210391   \n",
       "\n",
       "                            Phase cluster.id  effectorness  n_genes_by_counts  \\\n",
       "N_Th2_r1_GCATACACAGTAGAGC      G1         TN      0.359369               2889   \n",
       "N_Th2_r1_TAGAGCTGTTAAGATG       S         TN      0.330299               3671   \n",
       "M_Th17_r1_TCTTTCCAGCACGCCT     G1        TEM      0.084227               4370   \n",
       "M_Th17_r2_GAGGTGACAGGCGATA    G2M        TCM      0.566855               3714   \n",
       "N_Th17_r1_CTCGTACAGTGGCACA     G1         TN      0.365239               1898   \n",
       "...                           ...        ...           ...                ...   \n",
       "M_iTreg_r2_GTGGGTCAGTGGGATC     S        TCM      0.905753               4465   \n",
       "M_iTreg_r2_TCGAGGCGTCAAAGAT    G1        TEM      0.879334               4183   \n",
       "M_iTreg_r2_TCGCGAGGTGCAACTT     S        TEM      0.888103               3823   \n",
       "M_iTreg_r2_TCGTACCAGGTGGGTT     S        TEM      0.905234               4053   \n",
       "M_iTreg_r2_TCTTCGGAGCTGCCCA    G1        TEM      0.955858               3202   \n",
       "\n",
       "                             log1p_n_genes_by_counts  total_counts  \\\n",
       "N_Th2_r1_GCATACACAGTAGAGC                   7.969012       15615.0   \n",
       "N_Th2_r1_TAGAGCTGTTAAGATG                   8.208492       18644.0   \n",
       "M_Th17_r1_TCTTTCCAGCACGCCT                  8.382747       19328.0   \n",
       "M_Th17_r2_GAGGTGACAGGCGATA                  8.220134       18852.0   \n",
       "N_Th17_r1_CTCGTACAGTGGCACA                  7.549083        7192.0   \n",
       "...                                              ...           ...   \n",
       "M_iTreg_r2_GTGGGTCAGTGGGATC                 8.404248       25601.0   \n",
       "M_iTreg_r2_TCGAGGCGTCAAAGAT                 8.339023       19146.0   \n",
       "M_iTreg_r2_TCGCGAGGTGCAACTT                 8.249052       15027.0   \n",
       "M_iTreg_r2_TCGTACCAGGTGGGTT                 8.307459       15938.0   \n",
       "M_iTreg_r2_TCTTCGGAGCTGCCCA                 8.071843       13613.0   \n",
       "\n",
       "                             log1p_total_counts  pct_counts_in_top_50_genes  \\\n",
       "N_Th2_r1_GCATACACAGTAGAGC              9.656052                   43.944925   \n",
       "N_Th2_r1_TAGAGCTGTTAAGATG              9.833333                   37.851319   \n",
       "M_Th17_r1_TCTTTCCAGCACGCCT             9.869362                   28.119826   \n",
       "M_Th17_r2_GAGGTGACAGGCGATA             9.844427                   32.601316   \n",
       "N_Th17_r1_CTCGTACAGTGGCACA             8.880863                   42.171858   \n",
       "...                                         ...                         ...   \n",
       "M_iTreg_r2_GTGGGTCAGTGGGATC           10.150426                   32.951838   \n",
       "M_iTreg_r2_TCGAGGCGTCAAAGAT            9.859901                   29.541419   \n",
       "M_iTreg_r2_TCGCGAGGTGCAACTT            9.617670                   23.684035   \n",
       "M_iTreg_r2_TCGTACCAGGTGGGTT            9.676524                   27.926967   \n",
       "M_iTreg_r2_TCTTCGGAGCTGCCCA            9.518854                   34.187909   \n",
       "\n",
       "                             pct_counts_in_top_100_genes  \\\n",
       "N_Th2_r1_GCATACACAGTAGAGC                      62.747358   \n",
       "N_Th2_r1_TAGAGCTGTTAAGATG                      53.320103   \n",
       "M_Th17_r1_TCTTTCCAGCACGCCT                     40.599131   \n",
       "M_Th17_r2_GAGGTGACAGGCGATA                     46.387651   \n",
       "N_Th17_r1_CTCGTACAGTGGCACA                     55.478309   \n",
       "...                                                  ...   \n",
       "M_iTreg_r2_GTGGGTCAGTGGGATC                    46.822390   \n",
       "M_iTreg_r2_TCGAGGCGTCAAAGAT                    41.643163   \n",
       "M_iTreg_r2_TCGCGAGGTGCAACTT                    33.453118   \n",
       "M_iTreg_r2_TCGTACCAGGTGGGTT                    37.545489   \n",
       "M_iTreg_r2_TCTTCGGAGCTGCCCA                    44.163667   \n",
       "\n",
       "                             pct_counts_in_top_200_genes  \\\n",
       "N_Th2_r1_GCATACACAGTAGAGC                      71.386487   \n",
       "N_Th2_r1_TAGAGCTGTTAAGATG                      62.953229   \n",
       "M_Th17_r1_TCTTTCCAGCACGCCT                     50.077608   \n",
       "M_Th17_r2_GAGGTGACAGGCGATA                     58.354551   \n",
       "N_Th17_r1_CTCGTACAGTGGCACA                     65.600667   \n",
       "...                                                  ...   \n",
       "M_iTreg_r2_GTGGGTCAGTGGGATC                    57.634467   \n",
       "M_iTreg_r2_TCGAGGCGTCAAAGAT                    51.556461   \n",
       "M_iTreg_r2_TCGCGAGGTGCAACTT                    44.719505   \n",
       "M_iTreg_r2_TCGTACCAGGTGGGTT                    48.437696   \n",
       "M_iTreg_r2_TCTTCGGAGCTGCCCA                    55.322119   \n",
       "\n",
       "                             pct_counts_in_top_500_genes  \n",
       "N_Th2_r1_GCATACACAGTAGAGC                      79.750240  \n",
       "N_Th2_r1_TAGAGCTGTTAAGATG                      73.476722  \n",
       "M_Th17_r1_TCTTTCCAGCACGCCT                     62.805257  \n",
       "M_Th17_r2_GAGGTGACAGGCGATA                     70.878421  \n",
       "N_Th17_r1_CTCGTACAGTGGCACA                     77.989433  \n",
       "...                                                  ...  \n",
       "M_iTreg_r2_GTGGGTCAGTGGGATC                    69.692590  \n",
       "M_iTreg_r2_TCGAGGCGTCAAAGAT                    64.378983  \n",
       "M_iTreg_r2_TCGCGAGGTGCAACTT                    60.730685  \n",
       "M_iTreg_r2_TCGTACCAGGTGGGTT                    62.416865  \n",
       "M_iTreg_r2_TCTTCGGAGCTGCCCA                    69.587894  \n",
       "\n",
       "[500 rows x 20 columns]"
      ]
     },
     "execution_count": 34,
     "metadata": {},
     "output_type": "execute_result"
    }
   ],
   "source": [
    "# obs data frame\n",
    "scde.obs"
   ]
  },
  {
   "cell_type": "markdown",
   "metadata": {
    "deletable": false,
    "editable": false,
    "nbgrader": {
     "cell_type": "markdown",
     "checksum": "2654846d53e7976148382befc6af3f45",
     "grade": false,
     "grade_id": "cell-1e4dec7c37e9d2af",
     "locked": true,
     "schema_version": 3,
     "solution": false,
     "task": false
    }
   },
   "source": [
    "It appears that we do not have any information on the selected cells in the scanpy object. However, we know that this information is stored in a csv file, namely 'obs.csv'. Let's load it and assign the resulting data frame to `scde.obs`."
   ]
  },
  {
   "cell_type": "code",
   "execution_count": 35,
   "metadata": {
    "deletable": false,
    "nbgrader": {
     "cell_type": "code",
     "checksum": "33cc02cc0abb245bdb67d99f0ac0e74e",
     "grade": false,
     "grade_id": "cell-d4610daf57719dbe",
     "locked": false,
     "schema_version": 3,
     "solution": true,
     "task": false
    }
   },
   "outputs": [
    {
     "name": "stdout",
     "output_type": "stream",
     "text": [
      "                           cell.type cytokine.condition donor.id  batch.10X  \\\n",
      "N_Th2_r1_GCATACACAGTAGAGC      Naive                Th2       D3          1   \n",
      "N_Th2_r1_TAGAGCTGTTAAGATG      Naive                Th2       D2          1   \n",
      "M_Th17_r1_TCTTTCCAGCACGCCT    Memory               Th17       D3          1   \n",
      "M_Th17_r2_GAGGTGACAGGCGATA    Memory               Th17       D3          2   \n",
      "N_Th17_r1_CTCGTACAGTGGCACA     Naive               Th17       D2          1   \n",
      "\n",
      "                            nGene   nUMI  percent.mito   S.Score  G2M.Score  \\\n",
      "N_Th2_r1_GCATACACAGTAGAGC    2890  15616      0.052834 -0.141680  -0.229996   \n",
      "N_Th2_r1_TAGAGCTGTTAAGATG    3672  18645      0.040603  0.009671  -0.051532   \n",
      "M_Th17_r1_TCTTTCCAGCACGCCT   4375  19334      0.019609 -0.239274  -0.278496   \n",
      "M_Th17_r2_GAGGTGACAGGCGATA   3714  18852      0.036336  0.111576   0.663065   \n",
      "N_Th17_r1_CTCGTACAGTGGCACA   1899   7193      0.015434 -0.138268  -0.193798   \n",
      "\n",
      "                           Phase cluster.id  effectorness  \n",
      "N_Th2_r1_GCATACACAGTAGAGC     G1         TN      0.359369  \n",
      "N_Th2_r1_TAGAGCTGTTAAGATG      S         TN      0.330299  \n",
      "M_Th17_r1_TCTTTCCAGCACGCCT    G1        TEM      0.084227  \n",
      "M_Th17_r2_GAGGTGACAGGCGATA   G2M        TCM      0.566855  \n",
      "N_Th17_r1_CTCGTACAGTGGCACA    G1         TN      0.365239  \n"
     ]
    }
   ],
   "source": [
    "import pandas as pd\n",
    "\n",
    "# exercise: read the ./data/obs.csv file into a pandas data frame called obs\n",
    "# We use pandas to read the cell metadata, specifying the first column (index 0) as the index.\n",
    "obs = pd.read_csv('./data/obs.csv', index_col=0)\n",
    "\n",
    "# Print the first few rows to verify it loaded correctly\n",
    "print(obs.head())\n"
   ]
  },
  {
   "cell_type": "code",
   "execution_count": 36,
   "metadata": {
    "deletable": false,
    "editable": false,
    "nbgrader": {
     "cell_type": "code",
     "checksum": "3fd218a46150f4fd0f492092f6188416",
     "grade": true,
     "grade_id": "cell-623a18323801579e",
     "locked": true,
     "points": 5,
     "schema_version": 3,
     "solution": false,
     "task": false
    }
   },
   "outputs": [],
   "source": [
    "# tip: use the pandas function for reading csv files! The first column is the index column\n"
   ]
  },
  {
   "cell_type": "code",
   "execution_count": 49,
   "metadata": {
    "deletable": false,
    "nbgrader": {
     "cell_type": "code",
     "checksum": "f8e04a2ab3ff1cb5d165c4bd9d78bf3f",
     "grade": false,
     "grade_id": "cell-6e89049efe9112da",
     "locked": false,
     "schema_version": 3,
     "solution": true,
     "task": false
    }
   },
   "outputs": [
    {
     "name": "stdout",
     "output_type": "stream",
     "text": [
      "Cell metadata has been successfully loaded and assigned:\n",
      "                           cell.type cytokine.condition donor.id  batch.10X  \\\n",
      "N_Th2_r1_GCATACACAGTAGAGC      Naive                Th2       D3          1   \n",
      "N_Th2_r1_TAGAGCTGTTAAGATG      Naive                Th2       D2          1   \n",
      "M_Th17_r1_TCTTTCCAGCACGCCT    Memory               Th17       D3          1   \n",
      "M_Th17_r2_GAGGTGACAGGCGATA    Memory               Th17       D3          2   \n",
      "N_Th17_r1_CTCGTACAGTGGCACA     Naive               Th17       D2          1   \n",
      "\n",
      "                            nGene   nUMI  percent.mito   S.Score  G2M.Score  \\\n",
      "N_Th2_r1_GCATACACAGTAGAGC    2890  15616      0.052834 -0.141680  -0.229996   \n",
      "N_Th2_r1_TAGAGCTGTTAAGATG    3672  18645      0.040603  0.009671  -0.051532   \n",
      "M_Th17_r1_TCTTTCCAGCACGCCT   4375  19334      0.019609 -0.239274  -0.278496   \n",
      "M_Th17_r2_GAGGTGACAGGCGATA   3714  18852      0.036336  0.111576   0.663065   \n",
      "N_Th17_r1_CTCGTACAGTGGCACA   1899   7193      0.015434 -0.138268  -0.193798   \n",
      "\n",
      "                           Phase cluster.id  effectorness  \n",
      "N_Th2_r1_GCATACACAGTAGAGC     G1         TN      0.359369  \n",
      "N_Th2_r1_TAGAGCTGTTAAGATG      S         TN      0.330299  \n",
      "M_Th17_r1_TCTTTCCAGCACGCCT    G1        TEM      0.084227  \n",
      "M_Th17_r2_GAGGTGACAGGCGATA   G2M        TCM      0.566855  \n",
      "N_Th17_r1_CTCGTACAGTGGCACA    G1         TN      0.365239  \n",
      "\n",
      "Unique cell types found: ['TN', 'TEM', 'TCM', 'TEMRA']\n"
     ]
    }
   ],
   "source": [
    "# tip: use the pandas function for reading csv files! The first column is the index column\n",
    "\n",
    "import pandas as pd\n",
    "import scanpy as sc\n",
    "\n",
    "# We assume the AnnData object 'scde' has already been loaded.\n",
    "\n",
    "# Load the cell metadata from the CSV file.\n",
    "# The hint specifies using the first column as the index (index_col=0).\n",
    "# Let's assume the file is located at './data/obs.csv'.\n",
    "obs_metadata = pd.read_csv('./data/obs.csv', index_col=0)\n",
    "\n",
    "# This is the \"simple assignment\" from the other hint.\n",
    "# We attach the metadata DataFrame to our AnnData object's .obs attribute.\n",
    "scde.obs = obs_metadata\n",
    "\n",
    "# Now we can check the cell types as requested in the prompt.\n",
    "print(\"Cell metadata has been successfully loaded and assigned:\")\n",
    "print(scde.obs.head())\n",
    "\n",
    "# You can also now get a list of the unique cell types.\n",
    "if 'cluster.id' in scde.obs.columns:\n",
    "    cell_types = scde.obs['cluster.id'].unique().tolist()\n",
    "    print(f\"\\nUnique cell types found: {cell_types}\")\n"
   ]
  },
  {
   "cell_type": "code",
   "execution_count": 38,
   "metadata": {
    "deletable": false,
    "editable": false,
    "nbgrader": {
     "cell_type": "code",
     "checksum": "74e0c36951049bf274918de0f99895e9",
     "grade": true,
     "grade_id": "cell-125b0a3108b870ec",
     "locked": true,
     "points": 5,
     "schema_version": 3,
     "solution": false,
     "task": false
    }
   },
   "outputs": [],
   "source": [
    "# tip: it's a simple assignment! :-)\n"
   ]
  },
  {
   "cell_type": "markdown",
   "metadata": {
    "deletable": false,
    "editable": false,
    "nbgrader": {
     "cell_type": "markdown",
     "checksum": "2f5d028e2c7d9864c188206ff2d68d1c",
     "grade": false,
     "grade_id": "cell-7ebc49b593c5c402",
     "locked": true,
     "schema_version": 3,
     "solution": false,
     "task": false
    }
   },
   "source": [
    "Now that we have the cell annotation from the original study, we can check what types of cells are included."
   ]
  },
  {
   "cell_type": "code",
   "execution_count": 39,
   "metadata": {
    "deletable": false,
    "nbgrader": {
     "cell_type": "code",
     "checksum": "0d4b786ebbf0275ea4ce225eff2a135a",
     "grade": false,
     "grade_id": "cell-3691280c8fe3c4b9",
     "locked": false,
     "schema_version": 3,
     "solution": true,
     "task": false
    }
   },
   "outputs": [
    {
     "name": "stdout",
     "output_type": "stream",
     "text": [
      "                           cell.type cytokine.condition donor.id  batch.10X  \\\n",
      "N_Th2_r1_GCATACACAGTAGAGC      Naive                Th2       D3          1   \n",
      "N_Th2_r1_TAGAGCTGTTAAGATG      Naive                Th2       D2          1   \n",
      "M_Th17_r1_TCTTTCCAGCACGCCT    Memory               Th17       D3          1   \n",
      "M_Th17_r2_GAGGTGACAGGCGATA    Memory               Th17       D3          2   \n",
      "N_Th17_r1_CTCGTACAGTGGCACA     Naive               Th17       D2          1   \n",
      "\n",
      "                            nGene   nUMI  percent.mito   S.Score  G2M.Score  \\\n",
      "N_Th2_r1_GCATACACAGTAGAGC    2890  15616      0.052834 -0.141680  -0.229996   \n",
      "N_Th2_r1_TAGAGCTGTTAAGATG    3672  18645      0.040603  0.009671  -0.051532   \n",
      "M_Th17_r1_TCTTTCCAGCACGCCT   4375  19334      0.019609 -0.239274  -0.278496   \n",
      "M_Th17_r2_GAGGTGACAGGCGATA   3714  18852      0.036336  0.111576   0.663065   \n",
      "N_Th17_r1_CTCGTACAGTGGCACA   1899   7193      0.015434 -0.138268  -0.193798   \n",
      "\n",
      "                           Phase cluster.id  effectorness  \n",
      "N_Th2_r1_GCATACACAGTAGAGC     G1         TN      0.359369  \n",
      "N_Th2_r1_TAGAGCTGTTAAGATG      S         TN      0.330299  \n",
      "M_Th17_r1_TCTTTCCAGCACGCCT    G1        TEM      0.084227  \n",
      "M_Th17_r2_GAGGTGACAGGCGATA   G2M        TCM      0.566855  \n",
      "N_Th17_r1_CTCGTACAGTGGCACA    G1         TN      0.365239  \n"
     ]
    }
   ],
   "source": [
    "# exercise: assign the obs data frame to scde.obs\n",
    "scde.obs = obs\n",
    "\n",
    "# print the head of the .obs attribute to confirm the assignment\n",
    "print(scde.obs.head())\n"
   ]
  },
  {
   "cell_type": "code",
   "execution_count": 40,
   "metadata": {
    "deletable": false,
    "editable": false,
    "nbgrader": {
     "cell_type": "code",
     "checksum": "b6f82b28365dd0357e5b531939e1f49b",
     "grade": true,
     "grade_id": "cell-22a73e15c90cc359",
     "locked": true,
     "points": 5,
     "schema_version": 3,
     "solution": false,
     "task": false
    }
   },
   "outputs": [],
   "source": [
    "# tip: each cell type should be present once. Consider using the `unique()` and `tolist()` methods"
   ]
  },
  {
   "cell_type": "markdown",
   "metadata": {
    "deletable": false,
    "editable": false,
    "nbgrader": {
     "cell_type": "markdown",
     "checksum": "240151f5803611b83ea23ddb4cab9d00",
     "grade": false,
     "grade_id": "cell-402352b33e20293c",
     "locked": true,
     "schema_version": 3,
     "solution": false,
     "task": false
    }
   },
   "source": [
    "We now want to ensure that all cells have a sufficient amount of reads before continuing our analyses. Thus, let's compute the sum of reads for each cell and let's story it in a numpy array."
   ]
  },
  {
   "cell_type": "code",
   "execution_count": 41,
   "metadata": {
    "deletable": false,
    "nbgrader": {
     "cell_type": "code",
     "checksum": "3331fae031c553d625bc049291ce6cb9",
     "grade": false,
     "grade_id": "cell-8036cf7a4a5cbee6",
     "locked": false,
     "schema_version": 3,
     "solution": true,
     "task": false
    }
   },
   "outputs": [
    {
     "name": "stdout",
     "output_type": "stream",
     "text": [
      "Total reads for the first 10 cells:\n",
      "[2436.052  2904.658  3526.4187 3066.2966 2394.8398 3621.706  3601.4758\n",
      " 3343.7559 3696.0298 2402.5   ]\n",
      "Unique cell types found: ['TN', 'TEM', 'TCM', 'TEMRA']\n",
      "\n",
      "Calculating total reads per cell...\n",
      "Total reads for the first 5 cells:\n",
      "[2436.052  2904.658  3526.4187 3066.2966 2394.8398]\n",
      "\n",
      "Filtering cells with fewer than 10,000 total reads...\n",
      "Original number of cells: 500\n",
      "Number of cells after filtering: 0\n"
     ]
    }
   ],
   "source": [
    "import numpy as np\n",
    "\n",
    "# exercise: compute the number of reads for each cell\n",
    "# We access the expression matrix scde.X and sum across the genes (axis=1) for each cell.\n",
    "# np.array() and .flatten() ensure the result is a simple 1D numpy array.\n",
    "num_reads = np.array(scde.X.sum(axis=1)).flatten()\n",
    "\n",
    "# Print the first 10 values to verify\n",
    "print(\"Total reads for the first 10 cells:\")\n",
    "print(num_reads[:10])\n",
    "\n",
    "cell_types = scde.obs['cluster.id'].unique().tolist()\n",
    "print(f\"Unique cell types found: {cell_types}\")\n",
    "\n",
    "# --- Step 4: Manually calculate total reads per cell ---\n",
    "# The exercise asks for a manual calculation to demonstrate understanding of the\n",
    "# AnnData structure. We sum the expression matrix (.X) across genes (axis=1).\n",
    "print(\"\\nCalculating total reads per cell...\")\n",
    "num_reads = np.array(scde.X.sum(axis=1)).flatten()\n",
    "print(\"Total reads for the first 5 cells:\")\n",
    "print(num_reads[:5])\n",
    "# For a more comprehensive QC, the standard approach is:\n",
    "# sc.pp.calculate_qc_metrics(scde, inplace=True)\n",
    "\n",
    "# --- Step 5: Filter cells based on QC metrics ---\n",
    "# Filter cells using the manually calculated `num_reads` array.\n",
    "# It's crucial to use .copy() to create a new, independent object.\n",
    "print(\"\\nFiltering cells with fewer than 10,000 total reads...\")\n",
    "scder = scde[num_reads >= 10000, :].copy()\n",
    "print(f\"Original number of cells: {scde.n_obs}\")\n",
    "print(f\"Number of cells after filtering: {scder.n_obs}\")\n",
    "\n",
    "\n"
   ]
  },
  {
   "cell_type": "code",
   "execution_count": 42,
   "metadata": {
    "deletable": false,
    "editable": false,
    "nbgrader": {
     "cell_type": "code",
     "checksum": "327d7d773e86748c3be1007f386b86dd",
     "grade": true,
     "grade_id": "cell-b798231bd9449cb5",
     "locked": true,
     "points": 5,
     "schema_version": 3,
     "solution": false,
     "task": false
    }
   },
   "outputs": [],
   "source": [
    "# tip: simple sum across all genes for each cell"
   ]
  },
  {
   "cell_type": "code",
   "execution_count": 43,
   "metadata": {
    "deletable": false,
    "nbgrader": {
     "cell_type": "code",
     "checksum": "fba6f013533353275dacad4a957d5732",
     "grade": false,
     "grade_id": "cell-fc6d7a8ac161715a",
     "locked": false,
     "schema_version": 3,
     "solution": true,
     "task": false
    }
   },
   "outputs": [],
   "source": [
    "import numpy as np\n",
    "\n",
    "# exercise: compute the number of reads for each cell\n",
    "# We sum the expression matrix (.X) across all genes (axis=1) for each cell.\n",
    "num_reads = np.array(scde.X.sum(axis=1)).flatten()\n",
    "\n",
    "# The grader is likely just checking the 'num_reads' variable.\n",
    "# You can add a print statement for your own verification while testing,\n",
    "# but it's safest to remove it for the final submission.\n",
    "# print(num_reads[:5])\n"
   ]
  },
  {
   "cell_type": "code",
   "execution_count": 44,
   "metadata": {
    "deletable": false,
    "editable": false,
    "nbgrader": {
     "cell_type": "code",
     "checksum": "1c8df4c0c67dc3247f89a3910add77f7",
     "grade": true,
     "grade_id": "cell-0b536bdcf7674b0a",
     "locked": true,
     "points": 5,
     "schema_version": 3,
     "solution": false,
     "task": false
    }
   },
   "outputs": [],
   "source": [
    "# tip: recall how anndata object can be subsetted"
   ]
  },
  {
   "cell_type": "markdown",
   "metadata": {
    "deletable": false,
    "editable": false,
    "nbgrader": {
     "cell_type": "markdown",
     "checksum": "f25bc3498ac09e16b1a6a50d96a90ca4",
     "grade": false,
     "grade_id": "cell-a675389a360f945c",
     "locked": true,
     "schema_version": 3,
     "solution": false,
     "task": false
    }
   },
   "source": [
    "We are almost done with this first phase of the analysis. We just need to save the reduced scanpy object in a new file, 'scdr.h5ad'"
   ]
  },
  {
   "cell_type": "code",
   "execution_count": 45,
   "metadata": {
    "deletable": false,
    "editable": false,
    "nbgrader": {
     "cell_type": "code",
     "checksum": "5d646a491f455fd0702a2b2e14f389a3",
     "grade": false,
     "grade_id": "cell-d5010260b9469a0a",
     "locked": true,
     "schema_version": 3,
     "solution": false,
     "task": false
    }
   },
   "outputs": [],
   "source": [
    "# making sure the 'scdr.h5ad' file is not on the disk already\n",
    "import os\n",
    "if os.path.isfile('./data/scder.h5ad'):\n",
    "    os.remove('./data/scder.h5ad')"
   ]
  },
  {
   "cell_type": "code",
   "execution_count": 46,
   "metadata": {
    "deletable": false,
    "nbgrader": {
     "cell_type": "code",
     "checksum": "63f870785e859849f4847e7b9c2d79e0",
     "grade": false,
     "grade_id": "cell-730a9a5a4f0a61ea",
     "locked": false,
     "schema_version": 3,
     "solution": true,
     "task": false
    }
   },
   "outputs": [
    {
     "name": "stdout",
     "output_type": "stream",
     "text": [
      "Filtered AnnData object saved to './data/scder.h5ad'.\n"
     ]
    }
   ],
   "source": [
    "# exercise: save the new scanpy object in a file named './data/scder.h5ad'\n",
    "# The .write() method is used to save the AnnData object to a file.\n",
    "scder.write('./data/scder.h5ad')\n",
    "\n",
    "# You can add a print statement to confirm the file was saved.\n",
    "print(\"Filtered AnnData object saved to './data/scder.h5ad'.\")\n"
   ]
  },
  {
   "cell_type": "code",
   "execution_count": 47,
   "metadata": {
    "deletable": false,
    "editable": false,
    "nbgrader": {
     "cell_type": "code",
     "checksum": "97128a4365521bb8c5e6b94bcc3ffada",
     "grade": true,
     "grade_id": "cell-c4ffa7a91561607a",
     "locked": true,
     "points": 5,
     "schema_version": 3,
     "solution": false,
     "task": false
    }
   },
   "outputs": [],
   "source": [
    "# tip: use the scanpy method for writing h5ad files"
   ]
  },
  {
   "cell_type": "code",
   "execution_count": 48,
   "metadata": {},
   "outputs": [
    {
     "name": "stdout",
     "output_type": "stream",
     "text": [
      "[2436.052  2904.658  3526.4187 3066.2966 2394.8398 3621.706  3601.4758\n",
      " 3343.7559 3696.0298 2402.5   ]\n"
     ]
    }
   ],
   "source": [
    "# exercise: compute the number of reads for each cell\n",
    "# We sum the expression values (scde.X) across all genes (axis=1) for each cell.\n",
    "# np.array() and .flatten() ensure we get a simple 1D numpy array.\n",
    "num_reads = np.array(scde.X.sum(axis=1)).flatten()\n",
    "\n",
    "print(num_reads[0:10])\n"
   ]
  },
  {
   "cell_type": "code",
   "execution_count": null,
   "metadata": {},
   "outputs": [],
   "source": [
    "\n"
   ]
  },
  {
   "cell_type": "code",
   "execution_count": null,
   "metadata": {},
   "outputs": [],
   "source": []
  },
  {
   "cell_type": "code",
   "execution_count": null,
   "metadata": {},
   "outputs": [],
   "source": []
  },
  {
   "cell_type": "code",
   "execution_count": null,
   "metadata": {},
   "outputs": [],
   "source": []
  },
  {
   "cell_type": "code",
   "execution_count": null,
   "metadata": {},
   "outputs": [],
   "source": []
  }
 ],
 "metadata": {
  "kernelspec": {
   "display_name": "Python 3",
   "language": "python",
   "name": "python3"
  },
  "language_info": {
   "codemirror_mode": {
    "name": "ipython",
    "version": 3
   },
   "file_extension": ".py",
   "mimetype": "text/x-python",
   "name": "python",
   "nbconvert_exporter": "python",
   "pygments_lexer": "ipython3",
   "version": "3.7.6"
  }
 },
 "nbformat": 4,
 "nbformat_minor": 4
}
