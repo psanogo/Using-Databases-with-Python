{
 "cells": [
  {
   "cell_type": "markdown",
   "metadata": {
    "deletable": false,
    "editable": false,
    "nbgrader": {
     "cell_type": "markdown",
     "checksum": "990984985ee0873fd392db013848f97e",
     "grade": false,
     "grade_id": "cell-43c490a7d2f285ef",
     "locked": true,
     "schema_version": 3,
     "solution": false,
     "task": false
    }
   },
   "source": [
    "## The pandas package\n",
    "\n",
    "#### The day of the PhD defense is near!\n",
    "\n",
    "Your defense is set for tomorrow. *No panic!* Let's go together through all your data and results to be sure that everything is in place. \n",
    "\n",
    "All the data you collected are in the *bcell_data.csv* file. You managed to collect 100 different samples. For each sample, you recorded whether it is composed of pre-B cells or immature naive B cells, the sex of the donor, as well as the expression level of the IKZF1, MYC and MAPK1 genes."
   ]
  },
  {
   "cell_type": "code",
   "execution_count": 46,
   "metadata": {
    "deletable": false,
    "nbgrader": {
     "cell_type": "code",
     "checksum": "c6e8f0fcfd105a02ba5106f3d30a22f1",
     "grade": false,
     "grade_id": "cell-bcda027e03c66e3b",
     "locked": false,
     "schema_version": 3,
     "solution": true,
     "task": false
    }
   },
   "outputs": [
    {
     "data": {
      "text/html": [
       "<div>\n",
       "<style scoped>\n",
       "    .dataframe tbody tr th:only-of-type {\n",
       "        vertical-align: middle;\n",
       "    }\n",
       "\n",
       "    .dataframe tbody tr th {\n",
       "        vertical-align: top;\n",
       "    }\n",
       "\n",
       "    .dataframe thead th {\n",
       "        text-align: right;\n",
       "    }\n",
       "</style>\n",
       "<table border=\"1\" class=\"dataframe\">\n",
       "  <thead>\n",
       "    <tr style=\"text-align: right;\">\n",
       "      <th></th>\n",
       "      <th>cell_type</th>\n",
       "      <th>sex</th>\n",
       "      <th>IKZF1</th>\n",
       "      <th>MYC</th>\n",
       "      <th>MAPK1</th>\n",
       "    </tr>\n",
       "  </thead>\n",
       "  <tbody>\n",
       "    <tr>\n",
       "      <th>0</th>\n",
       "      <td>A</td>\n",
       "      <td>M</td>\n",
       "      <td>10.0</td>\n",
       "      <td>100.0</td>\n",
       "      <td>100.0</td>\n",
       "    </tr>\n",
       "    <tr>\n",
       "      <th>1</th>\n",
       "      <td>B</td>\n",
       "      <td>F</td>\n",
       "      <td>20.0</td>\n",
       "      <td>NaN</td>\n",
       "      <td>NaN</td>\n",
       "    </tr>\n",
       "    <tr>\n",
       "      <th>2</th>\n",
       "      <td>C</td>\n",
       "      <td>M</td>\n",
       "      <td>NaN</td>\n",
       "      <td>300.0</td>\n",
       "      <td>250.0</td>\n",
       "    </tr>\n",
       "    <tr>\n",
       "      <th>3</th>\n",
       "      <td>D</td>\n",
       "      <td>F</td>\n",
       "      <td>40.0</td>\n",
       "      <td>400.0</td>\n",
       "      <td>NaN</td>\n",
       "    </tr>\n",
       "    <tr>\n",
       "      <th>4</th>\n",
       "      <td>E</td>\n",
       "      <td>M</td>\n",
       "      <td>50.0</td>\n",
       "      <td>500.0</td>\n",
       "      <td>300.0</td>\n",
       "    </tr>\n",
       "  </tbody>\n",
       "</table>\n",
       "</div>"
      ],
      "text/plain": [
       "  cell_type sex  IKZF1    MYC  MAPK1\n",
       "0         A   M   10.0  100.0  100.0\n",
       "1         B   F   20.0    NaN    NaN\n",
       "2         C   M    NaN  300.0  250.0\n",
       "3         D   F   40.0  400.0    NaN\n",
       "4         E   M   50.0  500.0  300.0"
      ]
     },
     "execution_count": 46,
     "metadata": {},
     "output_type": "execute_result"
    }
   ],
   "source": [
    "# loading packages\n",
    "import numpy as np\n",
    "import pandas as pd\n",
    "\n",
    "# exercise: read the bcell_data.csv file from the \"./data\" folder \n",
    "# and store the data frame in the variable \"data\". \n",
    "# The row names are on the first column of the file.\n",
    "# data = ...\n",
    "# your code here\n",
    "\n",
    "\n",
    "# this shows the contents of data frame\n",
    "data"
   ]
  },
  {
   "cell_type": "code",
   "execution_count": 48,
   "metadata": {
    "deletable": false,
    "editable": false,
    "nbgrader": {
     "cell_type": "code",
     "checksum": "81d9cb786c8e1bc439305152b891e177",
     "grade": true,
     "grade_id": "cell-fe2663e36c7413f9",
     "locked": true,
     "points": 5,
     "schema_version": 3,
     "solution": false,
     "task": false
    }
   },
   "outputs": [],
   "source": [
    "# tip: the \"read_csv\" function has an \"index_col\" parameter"
   ]
  },
  {
   "cell_type": "markdown",
   "metadata": {
    "deletable": false,
    "editable": false,
    "nbgrader": {
     "cell_type": "markdown",
     "checksum": "1e0a331c4f1a5c6df96cb2c4692ad9c4",
     "grade": false,
     "grade_id": "cell-b425bea4b1a028ba",
     "locked": true,
     "schema_version": 3,
     "solution": false,
     "task": false
    }
   },
   "source": [
    "Great, let's make a table that subdivides the samples according to `cell_type` and `sex`"
   ]
  },
  {
   "cell_type": "code",
   "execution_count": 49,
   "metadata": {
    "deletable": false,
    "nbgrader": {
     "cell_type": "code",
     "checksum": "a6bda38ab6af254adcd3a5f27d155034",
     "grade": false,
     "grade_id": "cell-b7df767df841f942",
     "locked": false,
     "schema_version": 3,
     "solution": true,
     "task": false
    }
   },
   "outputs": [
    {
     "name": "stdout",
     "output_type": "stream",
     "text": [
      "--- Task 1: Loading Data ---\n",
      "       cell_type     sex      IKZF1        MYC      MAPK1\n",
      "sample                                                   \n",
      "s1          preB  female  17.232815  17.256758   8.864175\n",
      "s2          preB    male  11.938779  12.497435   3.871096\n",
      "s3          preB  female  10.153002  10.834510  10.789578\n",
      "s4          preB    male  12.516865  12.115241   7.177412\n",
      "s5          preB  female  11.231450  12.074468   3.356356\n",
      "\n",
      "--- Task 2: Cross-tabulation of cell_type and sex ---\n",
      "sex        female  male\n",
      "cell_type              \n",
      "immatureB      25    25\n",
      "preB           25    25\n",
      "\n",
      "--- Task 3: Removing Outliers ---\n",
      "Outlier in MAPK1 column set to NaN.\n",
      "\n",
      "--- Task 4: Counting Missing Values ---\n",
      "cell_type    0\n",
      "sex          0\n",
      "IKZF1        1\n",
      "MYC          1\n",
      "MAPK1        1\n",
      "dtype: int64\n",
      "\n",
      "--- Task 5: Imputing Missing Values ---\n",
      "Missing values after imputation:\n",
      "cell_type    0\n",
      "sex          0\n",
      "IKZF1        0\n",
      "MYC          0\n",
      "MAPK1        0\n",
      "dtype: int64\n",
      "\n",
      "--- Task 6: Calculating T-statistics ---\n",
      "IKZF1   -5.012358\n",
      "MYC     -4.904619\n",
      "MAPK1   -1.194541\n",
      "dtype: float64\n",
      "\n",
      "Analysis complete. You're all set for your defense!\n"
     ]
    }
   ],
   "source": [
    "#!/usr/bin/env python3\n",
    "\n",
    "# loading packages\n",
    "import numpy as np\n",
    "import pandas as pd\n",
    "\n",
    "# --- Task 1: Read the data ---\n",
    "print(\"--- Task 1: Loading Data ---\")\n",
    "# exercise: read the bcell_data.csv file from the \"./data\" folder\n",
    "# and store the data frame in the variable \"data\".\n",
    "# The row names are on the first column of the file.\n",
    "data = pd.read_csv('./data/bcell_data.csv', index_col=0)\n",
    "\n",
    "# this shows the contents of data frame\n",
    "print(data.head())\n",
    "\n",
    "# --- Task 2: Create a cross-tabulation ---\n",
    "print(\"\\n--- Task 2: Cross-tabulation of cell_type and sex ---\")\n",
    "# exercise: use the \"crosstab\" funtion for computing how many samples there are\n",
    "# for each combination of cell_type and sex values\n",
    "type_x_sex = pd.crosstab(data['cell_type'], data['sex'])\n",
    "\n",
    "print(type_x_sex)\n",
    "\n",
    "# --- Task 3: Handle outliers ---\n",
    "print(\"\\n--- Task 3: Removing Outliers ---\")\n",
    "# exercise: set any value in MAPK1 that is larger than 1000 to NaN\n",
    "data.loc[data['MAPK1'] > 1000, 'MAPK1'] = np.nan\n",
    "print(\"Outlier in MAPK1 column set to NaN.\")\n",
    "\n",
    "# --- Task 4: Count missing values ---\n",
    "print(\"\\n--- Task 4: Counting Missing Values ---\")\n",
    "# exercise: compute the number of missing value for each column\n",
    "num_na = data.isna().sum()\n",
    "\n",
    "print(num_na)\n",
    "\n",
    "# --- Task 5: Impute missing values ---\n",
    "print(\"\\n--- Task 5: Imputing Missing Values ---\")\n",
    "# let's create a copy of data, namely \"imputed_data\"\n",
    "imputed_data = data.copy()\n",
    "\n",
    "# exercise: replace missing values in imputed_data with the average of their respective columns\n",
    "# We calculate the mean for numeric columns only and use it to fill NaNs\n",
    "imputed_data.fillna(imputed_data.mean(numeric_only=True), inplace=True)\n",
    "\n",
    "# let's check that no missing data are present anymore in imputed_data\n",
    "print(\"Missing values after imputation:\")\n",
    "print(imputed_data.isna().sum())\n",
    "\n",
    "# --- Task 6: Apply t-statistic function ---\n",
    "print(\"\\n--- Task 6: Calculating T-statistics ---\")\n",
    "\n",
    "# this function computes the t-statistic for a numeric vector according to a binary factor\n",
    "def t_statistic(v, f) :\n",
    "\n",
    "    # factor unique values\n",
    "    uv = list(set(f))\n",
    "\n",
    "    # splitting the vector according to the factor values\n",
    "    # Ensure boolean indexing works correctly by converting to a list if needed\n",
    "    v1 = v[f == uv[0]]\n",
    "    v2 = v[f == uv[1]]\n",
    "\n",
    "    # t-statistic\n",
    "    # Using ddof=1 for sample standard deviation, which is standard in many statistical tests\n",
    "    return (np.mean(v1) - np.mean(v2)) / np.sqrt(np.std(v1, ddof=1) ** 2 / len(v1) + np.std(v2, ddof=1) ** 2 / len(v2) )\n",
    "\n",
    "# exercise: use the \"apply\" method for applying the t_statistic function to each numerical column.\n",
    "# Use cell type as binary factor (argument f)\n",
    "\n",
    "# Define the numerical columns to apply the function on\n",
    "numerical_cols = ['IKZF1', 'MYC', 'MAPK1']\n",
    "\n",
    "# Apply the function\n",
    "res = data[numerical_cols].apply(lambda col: t_statistic(col.dropna(), data.loc[col.dropna().index, 'cell_type']))\n",
    "\n",
    "print(res)\n",
    "\n",
    "print(\"\\nAnalysis complete. You're all set for your defense!\")\n",
    "\n"
   ]
  },
  {
   "cell_type": "code",
   "execution_count": 50,
   "metadata": {
    "deletable": false,
    "editable": false,
    "nbgrader": {
     "cell_type": "code",
     "checksum": "fb2ab83fe9b8e88b913c934a50da53d4",
     "grade": true,
     "grade_id": "cell-56a299e829e57a35",
     "locked": true,
     "points": 5,
     "schema_version": 3,
     "solution": false,
     "task": false
    }
   },
   "outputs": [],
   "source": [
    "# tip: we saw the \"crosstab\" function in the coding lessons :-)"
   ]
  },
  {
   "cell_type": "markdown",
   "metadata": {
    "deletable": false,
    "editable": false,
    "nbgrader": {
     "cell_type": "markdown",
     "checksum": "bcdf187c40032e447268baf656adce51",
     "grade": false,
     "grade_id": "cell-38a97d937b61a075",
     "locked": true,
     "schema_version": 3,
     "solution": false,
     "task": false
    }
   },
   "source": [
    "Your experiment is perfectly balanced, good! Let's now explore the gene expression levels, starting with visualizing them as boxplot"
   ]
  },
  {
   "cell_type": "code",
   "execution_count": 51,
   "metadata": {
    "deletable": false,
    "editable": false,
    "nbgrader": {
     "cell_type": "code",
     "checksum": "48b3815ba598cbfb2a4c9f792b8d7c43",
     "grade": false,
     "grade_id": "cell-f53a794c0d20a283",
     "locked": true,
     "schema_version": 3,
     "solution": false,
     "task": false
    }
   },
   "outputs": [
    {
     "data": {
      "text/plain": [
       "<matplotlib.axes._subplots.AxesSubplot at 0x716a6432c450>"
      ]
     },
     "execution_count": 51,
     "metadata": {},
     "output_type": "execute_result"
    },
    {
     "data": {
      "image/png": "[encoded data removed]",
      "text/plain": [
       "<Figure size 432x288 with 1 Axes>"
      ]
     },
     "metadata": {
      "needs_background": "light"
     },
     "output_type": "display_data"
    }
   ],
   "source": [
    "# boxplot for the gene expression values\n",
    "data.boxplot()"
   ]
  },
  {
   "cell_type": "markdown",
   "metadata": {
    "deletable": false,
    "editable": false,
    "nbgrader": {
     "cell_type": "markdown",
     "checksum": "c1f52f2f8a44a416d395a146c3e2faea",
     "grade": false,
     "grade_id": "cell-6a23cf6fcd35438a",
     "locked": true,
     "schema_version": 3,
     "solution": false,
     "task": false
    }
   },
   "source": [
    "It seems that there is an outlier in the MAPK1 column! Can you set that extreme value to NaN?"
   ]
  },
  {
   "cell_type": "code",
   "execution_count": 52,
   "metadata": {
    "deletable": false,
    "nbgrader": {
     "cell_type": "code",
     "checksum": "76e5dc7c71a38829144f477d03ba29b6",
     "grade": false,
     "grade_id": "cell-d15bcea6d21dee7a",
     "locked": false,
     "schema_version": 3,
     "solution": true,
     "task": false
    }
   },
   "outputs": [
    {
     "name": "stdout",
     "output_type": "stream",
     "text": [
      "Original DataFrame:\n",
      "    Gene  MAPK1\n",
      "0  GeneA    100\n",
      "1  GeneB   1500\n",
      "2  GeneC    250\n",
      "3  GeneD   1200\n",
      "4  GeneE    300\n",
      "\n",
      "DataFrame after setting outliers to NaN:\n",
      "    Gene  MAPK1\n",
      "0  GeneA  100.0\n",
      "1  GeneB    NaN\n",
      "2  GeneC  250.0\n",
      "3  GeneD    NaN\n",
      "4  GeneE  300.0\n"
     ]
    }
   ],
   "source": [
    "import pandas as pd\n",
    "import numpy as np\n",
    "\n",
    "# Assuming 'df' is your DataFrame and it has a 'MAPK1' column.\n",
    "# For demonstration purposes, let's create a sample DataFrame:\n",
    "data = {'Gene': ['GeneA', 'GeneB', 'GeneC', 'GeneD', 'GeneE'],\n",
    "        'MAPK1': [100, 1500, 250, 1200, 300]}\n",
    "df = pd.DataFrame(data)\n",
    "\n",
    "print(\"Original DataFrame:\")\n",
    "print(df)\n",
    "\n",
    "# Your code to set values larger than 1000 in 'MAPK1' to NaN\n",
    "# You select the rows where 'MAPK1' is greater than 1000\n",
    "# and then assign np.nan to the 'MAPK1' column for those rows.\n",
    "df.loc[df['MAPK1'] > 1000, 'MAPK1'] = np.nan\n",
    "\n",
    "print(\"\\nDataFrame after setting outliers to NaN:\")\n",
    "print(df)\n"
   ]
  },
  {
   "cell_type": "code",
   "execution_count": 53,
   "metadata": {
    "deletable": false,
    "editable": false,
    "nbgrader": {
     "cell_type": "code",
     "checksum": "9a7afae2f0961b74bc471754ef29cc9b",
     "grade": true,
     "grade_id": "cell-433901fb8b0cb1d8",
     "locked": true,
     "points": 5,
     "schema_version": 3,
     "solution": false,
     "task": false
    }
   },
   "outputs": [],
   "source": [
    "# tip: you first need to finds the MAPK1 values larger than 1000, and then you must set them to NaN"
   ]
  },
  {
   "cell_type": "markdown",
   "metadata": {
    "deletable": false,
    "editable": false,
    "nbgrader": {
     "cell_type": "markdown",
     "checksum": "215b46473e945641068a9bf7625ca35e",
     "grade": false,
     "grade_id": "cell-20186e5307be607e",
     "locked": true,
     "schema_version": 3,
     "solution": false,
     "task": false
    }
   },
   "source": [
    "Let's check if you successfully removed the outlier! "
   ]
  },
  {
   "cell_type": "code",
   "execution_count": 57,
   "metadata": {},
   "outputs": [
    {
     "name": "stdout",
     "output_type": "stream",
     "text": [
      "Original DataFrame (before outlier removal):\n",
      "  cell_type sex  IKZF1  MYC  MAPK1\n",
      "0         A   M     10  100    100\n",
      "1         B   F     20  200   1500\n",
      "2         C   M     30  300    250\n",
      "3         D   F     40  400   1200\n",
      "4         E   M     50  500    300\n",
      "5         F   F     60  600    400\n",
      "------------------------------\n",
      "\n",
      "DataFrame AFTER outlier removal (MAPK1 has NaNs):\n",
      "  cell_type sex  IKZF1  MYC  MAPK1\n",
      "0         A   M     10  100  100.0\n",
      "1         B   F     20  200    NaN\n",
      "2         C   M     30  300  250.0\n",
      "3         D   F     40  400    NaN\n",
      "4         E   M     50  500  300.0\n",
      "5         F   F     60  600  400.0\n",
      "------------------------------\n",
      "\n",
      "Generating boxplots...\n"
     ]
    },
    {
     "data": {
      "image/png": "[encoded data removed]",
      "text/plain": [
       "<Figure size 576x432 with 1 Axes>"
      ]
     },
     "metadata": {
      "needs_background": "light"
     },
     "output_type": "display_data"
    },
    {
     "name": "stdout",
     "output_type": "stream",
     "text": [
      "\n",
      "Boxplot generated. Check MAPK1 for outlier removal effect.\n",
      "------------------------------\n",
      "\n",
      "Number of missing values for each column:\n",
      "cell_type    0\n",
      "sex          0\n",
      "IKZF1        0\n",
      "MYC          0\n",
      "MAPK1        2\n",
      "dtype: int64\n",
      "------------------------------\n"
     ]
    }
   ],
   "source": [
    "import pandas as pd\n",
    "import numpy as np\n",
    "import matplotlib.pyplot as plt # Needed for plotting\n",
    "\n",
    "# --- 1. Recreate the initial DataFrame for context (assuming this was your starting point) ---\n",
    "# This is a sample DataFrame. Replace with your actual 'data' if it's different.\n",
    "data = pd.DataFrame({\n",
    "    'cell_type': ['A', 'B', 'C', 'D', 'E', 'F'],\n",
    "    'sex': ['M', 'F', 'M', 'F', 'M', 'F'],\n",
    "    'IKZF1': [10, 20, 30, 40, 50, 60],\n",
    "    'MYC': [100, 200, 300, 400, 500, 600],\n",
    "    'MAPK1': [100, 1500, 250, 1200, 300, 400] # Example with outliers\n",
    "})\n",
    "\n",
    "print(\"Original DataFrame (before outlier removal):\")\n",
    "print(data)\n",
    "print(\"-\" * 30)\n",
    "\n",
    "# --- 2. Remove outliers by setting them to NaN (as in your previous step) ---\n",
    "# exercise: set any value in MAPK1 that is larger than 1000 to NaN\n",
    "data.loc[data['MAPK1'] > 1000, 'MAPK1'] = np.nan\n",
    "\n",
    "print(\"\\nDataFrame AFTER outlier removal (MAPK1 has NaNs):\")\n",
    "print(data)\n",
    "print(\"-\" * 30)\n",
    "\n",
    "# --- 3. Check if you successfully removed the outlier using boxplots ---\n",
    "# boxplots for the gene expression values (again)\n",
    "\n",
    "# Select only the numeric columns for boxplotting, as 'cell_type' and 'sex' are categorical.\n",
    "# Or, if you want all columns, ensure they are numeric for boxplot().\n",
    "numeric_columns_for_plot = data.select_dtypes(include=np.number)\n",
    "\n",
    "print(\"\\nGenerating boxplots...\")\n",
    "# Adjust figure size for better visibility if needed\n",
    "plt.figure(figsize=(8, 6))\n",
    "numeric_columns_for_plot.boxplot()\n",
    "plt.title(\"Boxplots of Gene Expression Values (after MAPK1 outlier removal)\")\n",
    "plt.ylabel(\"Expression Value\")\n",
    "plt.grid(False) # Turn off grid for cleaner look if preferred\n",
    "plt.show()\n",
    "\n",
    "# After the plot, you should visually inspect the MAPK1 boxplot.\n",
    "# If the outlier was successfully removed, you won't see data points\n",
    "# extending far beyond the upper whisker for MAPK1 (specifically,\n",
    "# no points above 1000, as they are now NaNs and ignored by boxplot).\n",
    "# You might notice that MAPK1's boxplot looks \"normal\" or has a smaller range\n",
    "# compared to if the 1500 and 1200 were still there.\n",
    "# If you \"distinctively see three boxplots,\" it usually means it's plotting\n",
    "# 'IKZF1', 'MYC', and 'MAPK1' separately, which is what we want.\n",
    "\n",
    "print(\"\\nBoxplot generated. Check MAPK1 for outlier removal effect.\")\n",
    "print(\"-\" * 30)\n",
    "\n",
    "# --- 4. Detect how many missing values there are for each column ---\n",
    "# exercise: compute the number of missing value for each column\n",
    "num_na = data.isnull().sum()\n",
    "\n",
    "print(\"\\nNumber of missing values for each column:\")\n",
    "print(num_na)\n",
    "print(\"-\" * 30)\n",
    "\n",
    "# --- (Optional) Imputation step from your next question, if you want to continue the flow ---\n",
    "# imputed_data = data.copy()\n",
    "# numeric_cols_impute = imputed_data.select_dtypes(include=np.number).columns\n",
    "# for col in numeric_cols_impute:\n",
    "#     if imputed_data[col].isnull().any():\n",
    "#         mean_value = imputed_data[col].mean()\n",
    "#         imputed_data[col].fillna(mean_value, inplace=True)\n",
    "# print(\"\\nMissing values after imputation (if performed):\")\n",
    "# print(imputed_data.isna().sum())\n"
   ]
  },
  {
   "cell_type": "markdown",
   "metadata": {
    "deletable": false,
    "editable": false,
    "nbgrader": {
     "cell_type": "markdown",
     "checksum": "9f7869eae5cca4a9cd44ce0a8abc4f8c",
     "grade": false,
     "grade_id": "cell-c68c1392dff47d65",
     "locked": true,
     "schema_version": 3,
     "solution": false,
     "task": false
    }
   },
   "source": [
    "If you can distintively see three boxplots then you successfully removed the outlier."
   ]
  },
  {
   "cell_type": "markdown",
   "metadata": {
    "deletable": false,
    "editable": false,
    "nbgrader": {
     "cell_type": "markdown",
     "checksum": "d1b21c7aa1fcaa730133c4477c898ab7",
     "grade": false,
     "grade_id": "cell-ed5c6ec648a4054c",
     "locked": true,
     "schema_version": 3,
     "solution": false,
     "task": false
    }
   },
   "source": [
    "We now have introduced at least one NaN value in the MAPK1 column. Can you detect how many missing values there are for each column?"
   ]
  },
  {
   "cell_type": "code",
   "execution_count": 58,
   "metadata": {
    "deletable": false,
    "nbgrader": {
     "cell_type": "code",
     "checksum": "b73ee38460693bdd2871587d0401121e",
     "grade": false,
     "grade_id": "cell-06d9d1dd39d8267a",
     "locked": false,
     "schema_version": 3,
     "solution": true,
     "task": false
    }
   },
   "outputs": [
    {
     "name": "stdout",
     "output_type": "stream",
     "text": [
      "cell_type    0\n",
      "sex          0\n",
      "IKZF1        1\n",
      "MYC          1\n",
      "MAPK1        2\n",
      "dtype: int64\n"
     ]
    }
   ],
   "source": [
    "import pandas as pd\n",
    "import numpy as np\n",
    "\n",
    "# Assuming 'df' is your DataFrame from the previous step,\n",
    "# where you've already introduced NaNs in MAPK1.\n",
    "# Let's recreate a similar scenario for demonstration:\n",
    "data = {\n",
    "    'cell_type': ['A', 'B', 'C', 'D', 'E'],\n",
    "    'sex': ['M', 'F', 'M', 'F', 'M'],\n",
    "    'IKZF1': [10, 20, np.nan, 40, 50], # Example NaN\n",
    "    'MYC': [100, np.nan, 300, 400, 500], # Example NaN\n",
    "    'MAPK1': [100, np.nan, 250, np.nan, 300] # Assuming two NaNs from outlier removal\n",
    "}\n",
    "df = pd.DataFrame(data)\n",
    "\n",
    "# Let's simulate the previous step of setting an outlier to NaN in MAPK1\n",
    "# (though in the example data above, MAPK1 already has two NaNs for demonstration purposes)\n",
    "# df.loc[df['MAPK1'] > 1000, 'MAPK1'] = np.nan\n",
    "\n",
    "# Your code to compute the number of missing values for each column\n",
    "num_na = df.isnull().sum()\n",
    "\n",
    "print(num_na)\n"
   ]
  },
  {
   "cell_type": "code",
   "execution_count": 34,
   "metadata": {
    "deletable": false,
    "editable": false,
    "nbgrader": {
     "cell_type": "code",
     "checksum": "dafb31156615d9e41aeb76c2468349dd",
     "grade": true,
     "grade_id": "cell-95926ea0a6f8a37a",
     "locked": true,
     "points": 5,
     "schema_version": 3,
     "solution": false,
     "task": false
    }
   },
   "outputs": [],
   "source": [
    "# tip: try to combine the \"isna\" and \"sum\" methods"
   ]
  },
  {
   "cell_type": "markdown",
   "metadata": {
    "deletable": false,
    "editable": false,
    "nbgrader": {
     "cell_type": "markdown",
     "checksum": "fb0aea3171f3dde5e418a864aea055cb",
     "grade": false,
     "grade_id": "cell-24ead6e845c3b9b0",
     "locked": true,
     "schema_version": 3,
     "solution": false,
     "task": false
    }
   },
   "source": [
    "It seems we have some missing value in the numeric columns. Can you replace them with the average of their respective columns?"
   ]
  },
  {
   "cell_type": "code",
   "execution_count": 40,
   "metadata": {
    "deletable": false,
    "nbgrader": {
     "cell_type": "code",
     "checksum": "907c642c69606dc859823b5485bf7377",
     "grade": false,
     "grade_id": "cell-bc0be0cae6930338",
     "locked": false,
     "schema_version": 3,
     "solution": true,
     "task": false
    }
   },
   "outputs": [
    {
     "name": "stdout",
     "output_type": "stream",
     "text": [
      "Missing values after imputation:\n",
      "cell_type    0\n",
      "sex          0\n",
      "IKZF1        0\n",
      "MYC          0\n",
      "MAPK1        0\n",
      "dtype: int64\n",
      "\n",
      "Imputed Data:\n",
      "  cell_type sex  IKZF1    MYC       MAPK1\n",
      "0         A   M   10.0  100.0  100.000000\n",
      "1         B   F   20.0  325.0  216.666667\n",
      "2         C   M   30.0  300.0  250.000000\n",
      "3         D   F   40.0  400.0  216.666667\n",
      "4         E   M   50.0  500.0  300.000000\n"
     ]
    }
   ],
   "source": [
    "import pandas as pd\n",
    "import numpy as np\n",
    "\n",
    "# Assuming 'data' is your DataFrame with missing values.\n",
    "# Let's recreate a sample DataFrame with NaNs for demonstration:\n",
    "data = pd.DataFrame({\n",
    "    'cell_type': ['A', 'B', 'C', 'D', 'E'],\n",
    "    'sex': ['M', 'F', 'M', 'F', 'M'],\n",
    "    'IKZF1': [10, 20, np.nan, 40, 50],\n",
    "    'MYC': [100, np.nan, 300, 400, 500],\n",
    "    'MAPK1': [100, np.nan, 250, np.nan, 300]\n",
    "})\n",
    "\n",
    "# let's create a copy of data, namely \"imputed_data\"\n",
    "imputed_data = data.copy()\n",
    "\n",
    "# exercise: replace missing values in imputed_data with the average of their respective columns\n",
    "\n",
    "# Identify numeric columns for imputation\n",
    "# A common way is to select columns with numeric dtypes.\n",
    "numeric_cols = imputed_data.select_dtypes(include=np.number).columns\n",
    "\n",
    "# Loop through each numeric column and fill missing values with its mean\n",
    "for col in numeric_cols:\n",
    "    if imputed_data[col].isnull().any(): # Check if there are any NaNs in the column\n",
    "        mean_value = imputed_data[col].mean()\n",
    "        imputed_data[col].fillna(mean_value, inplace=True)\n",
    "\n",
    "# let's check that no missing data are present anymore in imputed_data\n",
    "print(\"Missing values after imputation:\")\n",
    "print(imputed_data.isna().sum())\n",
    "\n",
    "print(\"\\nImputed Data:\")\n",
    "print(imputed_data)\n"
   ]
  },
  {
   "cell_type": "code",
   "execution_count": 36,
   "metadata": {
    "deletable": false,
    "editable": false,
    "nbgrader": {
     "cell_type": "code",
     "checksum": "20492a1e78c98774de6879b0f9081f1a",
     "grade": true,
     "grade_id": "cell-2d53e1de8a15700f",
     "locked": true,
     "points": 5,
     "schema_version": 3,
     "solution": false,
     "task": false
    }
   },
   "outputs": [],
   "source": [
    "# tip: the \"fillna\" method could be useful here"
   ]
  },
  {
   "cell_type": "markdown",
   "metadata": {
    "deletable": false,
    "editable": false,
    "nbgrader": {
     "cell_type": "markdown",
     "checksum": "bb680134e708ff0578e81aa99a52bf93",
     "grade": false,
     "grade_id": "cell-874f6071c076d66a",
     "locked": true,
     "schema_version": 3,
     "solution": false,
     "task": false
    }
   },
   "source": [
    "Time to better explore the data. Let's plot the distribution of the gene expression data subdivided by cell_type."
   ]
  },
  {
   "cell_type": "code",
   "execution_count": 42,
   "metadata": {
    "deletable": false,
    "editable": false,
    "nbgrader": {
     "cell_type": "code",
     "checksum": "72790bcdac9fb480e40b0e7541d76bc7",
     "grade": false,
     "grade_id": "cell-047621e489c6b592",
     "locked": true,
     "schema_version": 3,
     "solution": false,
     "task": false
    }
   },
   "outputs": [
    {
     "data": {
      "image/png": "[encoded data removed]",
      "text/plain": [
       "<Figure size 432x288 with 6 Axes>"
      ]
     },
     "metadata": {
      "needs_background": "light"
     },
     "output_type": "display_data"
    }
   ],
   "source": [
    "# distribution of the gene expression columns by cell_type\n",
    "tmp = data.groupby('cell_type').boxplot()"
   ]
  },
  {
   "cell_type": "markdown",
   "metadata": {
    "deletable": false,
    "editable": false,
    "nbgrader": {
     "cell_type": "markdown",
     "checksum": "d6bd8d6ace5483ab45c2d8b580da3657",
     "grade": false,
     "grade_id": "cell-423424e10ac26a98",
     "locked": true,
     "schema_version": 3,
     "solution": false,
     "task": false
    }
   },
   "source": [
    "It seems that the expression of IKZF1 and MYC is higher in the preB cells than in the immature ones. Let's compute a t statistic for assessing differences in a quantitative way."
   ]
  },
  {
   "cell_type": "code",
   "execution_count": 43,
   "metadata": {
    "deletable": false,
    "nbgrader": {
     "cell_type": "code",
     "checksum": "957cd1e66b9cfab8b6b0d655a5a560c0",
     "grade": false,
     "grade_id": "cell-dba71a50a319e668",
     "locked": false,
     "schema_version": 3,
     "solution": true,
     "task": false
    }
   },
   "outputs": [
    {
     "data": {
      "text/plain": [
       "IKZF1   -5.012358\n",
       "MYC     -4.904619\n",
       "MAPK1   -1.194541\n",
       "dtype: float64"
      ]
     },
     "execution_count": 43,
     "metadata": {},
     "output_type": "execute_result"
    }
   ],
   "source": [
    "# this function computes the t-statistic for a numeric vector according to a binary factor\n",
    "def t_statistic(v, f) :\n",
    "    \n",
    "    # factor unique values\n",
    "    uv = list(set(f))\n",
    "    \n",
    "    # splitting the vector according to the factor values\n",
    "    v1 = v[list(f == uv[0])]\n",
    "    v2 = v[list(f == uv[1])]\n",
    "    \n",
    "    # t-statistic\n",
    "    return (np.mean(v1) - np.mean(v2)) / np.sqrt(np.std(v1) ** 2 / len(v1) + np.std(v2) ** 2 / len(v2) )\n",
    "\n",
    "# exercise: use the \"apply\" method for applying the t_statistic function to each numerical column.\n",
    "# Use cell type as binary factor (argument f)\n",
    "\n",
    "# res = ...\n",
    "# your code here\n",
    "\n",
    "\n",
    "res"
   ]
  },
  {
   "cell_type": "code",
   "execution_count": 45,
   "metadata": {
    "deletable": false,
    "editable": false,
    "nbgrader": {
     "cell_type": "code",
     "checksum": "432d743a73cb14c45850b17737ec1240",
     "grade": true,
     "grade_id": "cell-fd2ebd9ddcf623a0",
     "locked": true,
     "points": 5,
     "schema_version": 3,
     "solution": false,
     "task": false
    }
   },
   "outputs": [],
   "source": [
    "# tip: you must use the \"apply\" method only on the numerical columns (IKZF1, MYC and MAPK1, in order)"
   ]
  },
  {
   "cell_type": "markdown",
   "metadata": {
    "deletable": false,
    "editable": false,
    "nbgrader": {
     "cell_type": "markdown",
     "checksum": "3719c6af393a95c0c88a2b36dd79247d",
     "grade": false,
     "grade_id": "cell-b526487b37d4fe7a",
     "locked": true,
     "schema_version": 3,
     "solution": false,
     "task": false
    }
   },
   "source": [
    "If your computations are correct, you will find that the t-statistics for IKZF1 and MYC are largely beyond the critical value of 1.96 (corresponding to a p-value of 0.05). Once again, you have demonstrated the validity of your findings! You can sleep tight, tomorrow defense will be a success :-)"
   ]
  },
  {
   "cell_type": "code",
   "execution_count": null,
   "metadata": {},
   "outputs": [],
   "source": []
  },
  {
   "cell_type": "code",
   "execution_count": null,
   "metadata": {},
   "outputs": [],
   "source": []
  },
  {
   "cell_type": "code",
   "execution_count": null,
   "metadata": {},
   "outputs": [],
   "source": []
  }
 ],
 "metadata": {
  "kernelspec": {
   "display_name": "Python 3",
   "language": "python",
   "name": "python3"
  },
  "language_info": {
   "codemirror_mode": {
    "name": "ipython",
    "version": 3
   },
   "file_extension": ".py",
   "mimetype": "text/x-python",
   "name": "python",
   "nbconvert_exporter": "python",
   "pygments_lexer": "ipython3",
   "version": "3.7.6"
  }
 },
 "nbformat": 4,
 "nbformat_minor": 4
}
