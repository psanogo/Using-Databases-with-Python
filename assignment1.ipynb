{
 "cells": [
  {
   "cell_type": "markdown",
   "metadata": {
    "deletable": false,
    "editable": false,
    "nbgrader": {
     "cell_type": "markdown",
     "checksum": "9e0ad337ad3452105fe68718661c9487",
     "grade": false,
     "grade_id": "cell-378b644a1004a3a3",
     "locked": true,
     "schema_version": 3,
     "solution": false
    }
   },
   "source": [
    "# Module 1 Programming Assignment: Warming Up\n",
    "\n",
    "This is a light-weight assignment to warm you up for following coding exercises. In this assignment, you will load a real-world dataset, execute a few code blocks, and explore the outputs. Through this assignment, you are expected to observe how patterns can be used to characterize certain properties of a data object, how they can be used to build a classifier, and how the similarity between data objects can be used to reveal the clustering structure behind the data. \n",
    "\n",
    "Let us look at a dataset where the objects of interest are 14 programming languages. The data is formated so that every column corresponds to a \"pattern\" about GitHub users who use these programming languages.  To make it more fun, each pattern here is an emoji that programmers use in their issue reports and comments.  Every row of the data corresponds to one of the 14 languages, which consists of the counts of each pattern (emoji) that appeared in the GitHub projects with that language as the primary programming language. \n",
    "\n",
    "The following snippet loads the data into a numpy array (x) and maps the names of each programming language to a row index (row_index) and each emoji pattern to a column index (col_index).  Now you may check how many times a given emoji pattern (e.g., \"🎉\") appears in a given programming language (e.g., \"Python\").  This pattern alone could tell us some characteristics about the language (or how much the programmers like the language), couldn't it?"
   ]
  },
  {
   "cell_type": "code",
   "execution_count": 10,
   "metadata": {
    "deletable": false,
    "editable": false,
    "nbgrader": {
     "cell_type": "code",
     "checksum": "698921864d985ecdaf46981bfb26e7a0",
     "grade": false,
     "grade_id": "cell-860217f0b19ea2b3",
     "locked": true,
     "schema_version": 3,
     "solution": false
    }
   },
   "outputs": [
    {
     "name": "stdout",
     "output_type": "stream",
     "text": [
      "Object names: ['C#', 'C', 'VimL', 'R', 'Python', 'Ruby', 'C++', 'PHP', 'CSS', 'Go', 'Java', 'JavaScript', 'Perl', 'Shell']\n",
      "Pattern names (top 10): ['👍' '😄' '😉' '✅' '✔' '🎉' '💯' '❤' '👎' '😃']\n",
      "Dimensions of data:  (14, 1271)\n",
      "How many times pattern 🎉 appears for Python? 417.0\n"
     ]
    }
   ],
   "source": [
    "import csv\n",
    "import numpy as np\n",
    "\n",
    "filename = 'assets/language_emoji_distri_label.txt'\n",
    "\n",
    "with open(filename) as f:\n",
    "    data = csv.reader(f, delimiter='\\t')\n",
    "    data = list(data)\n",
    "    data = np.array(data)\n",
    "\n",
    "colnames = data[0, 1:]\n",
    "rownames = data[1:, 0]\n",
    "x = data[1:, 1:]\n",
    "x = x.astype(float)\n",
    "\n",
    "col_index = {} #fidx\n",
    "for i in range(colnames.size):\n",
    "    col_index[colnames[i]] = i\n",
    "\n",
    "row_index = {} #cidx\n",
    "for i in range(rownames.size):\n",
    "    row_index[rownames[i]] = i\n",
    "\n",
    "print('Object names:', rownames.tolist())\n",
    "print('Pattern names (top 10):', colnames[0:10])\n",
    "print('Dimensions of data: ', x.shape)\n",
    "print('How many times pattern {} appears for {}?'.format('🎉', 'Python'), x[row_index['Python'], col_index['🎉']])"
   ]
  },
  {
   "cell_type": "markdown",
   "metadata": {
    "deletable": false,
    "editable": false,
    "nbgrader": {
     "cell_type": "markdown",
     "checksum": "0c1d326365076091532d205ce399401e",
     "grade": false,
     "grade_id": "cell-eae9cedd470dafc6",
     "locked": true,
     "schema_version": 3,
     "solution": false
    }
   },
   "source": [
    "Now that we obtained patterns that represent the characteristics of each programming language, we can utilize them to deliver more powerful data mining functionalities.  One common practice is to use the patterns as \"features\" for a downstream machine learning task, such as classification.  For example, suppose developers of a GitHub project use emojis \"😄, 👊, and 💃\" to describe their experience. Which languages are they more likely to be using? Here, every language is interpreted as a \"class\" and we will assign a new data object ['😄', '👊', '💃'] into the most likely classes. \n",
    "\n",
    "To do that, we need to build a so-called \"classifier\", which is trained using the observed data objects and their pattern/feature vectors. The trained classifier then takes the input of any new pattern/feature vector and outputs its predictions (a ranked list of classes).  We have implemented a very simple classifier for you, and you will see many more complex classifiers in the supervised machine learning class. "
   ]
  },
  {
   "cell_type": "code",
   "execution_count": 11,
   "metadata": {
    "deletable": false,
    "editable": false,
    "nbgrader": {
     "cell_type": "code",
     "checksum": "704a671e35f05273028c6ff2181cca3a",
     "grade": false,
     "grade_id": "cell-ff5acb1b6ff16f5e",
     "locked": true,
     "schema_version": 3,
     "solution": false
    }
   },
   "outputs": [],
   "source": [
    "from collections import namedtuple\n",
    "\n",
    "# The following functions train a classifier and use the trained classifier to predict the class label of a new input data record\n",
    "# You don't need to understand the details in the two functions. \n",
    "\n",
    "def naive_bayes_train(x, classes, features):\n",
    "    # a very simple naive Bayes classifier \n",
    "    # data input: each row is the accumulated feature vector of a class\n",
    "    # do not use this function when you have access to individual data examples\n",
    "    x = x + 0.5 \n",
    "    rowsum = x.sum(axis = 1)\n",
    "    x = x / rowsum[:,None]\n",
    "    rowsum = rowsum / rowsum.sum()\n",
    "    Model = namedtuple('model', 'pxc pc classes features')\n",
    "    return( Model(x, rowsum, classes, features) )\n",
    "\n",
    "def naive_bayes_test(model, x):\n",
    "    res = np.zeros(model.pc.size, dtype={'names':('class', 'logprob'), 'formats':('S10', 'float')})\n",
    "    res['class'] = model.classes\n",
    "    res['logprob'] = np.log(model.pc)\n",
    "    for i in range(len(x)):\n",
    "        if x[i] > 0:\n",
    "            for j in range(len(res)):\n",
    "                res['logprob'][j] = res['logprob'][j] + x[i] * np.log(model.pxc[j, i])\n",
    "    return(res)\n"
   ]
  },
  {
   "cell_type": "code",
   "execution_count": 12,
   "metadata": {
    "deletable": false,
    "editable": false,
    "nbgrader": {
     "cell_type": "code",
     "checksum": "e2d4dde79a866912c7da2dddde41eb46",
     "grade": false,
     "grade_id": "cell-cd038cc2c2fe5cd6",
     "locked": true,
     "schema_version": 3,
     "solution": false
    }
   },
   "outputs": [
    {
     "name": "stdout",
     "output_type": "stream",
     "text": [
      "Input patterns: ['😄', '👊', '💃']\n",
      "Most likely language:  Python\n",
      "Second likely language:  JavaScript\n",
      "Third likely language:  C#\n"
     ]
    }
   ],
   "source": [
    "# Training the model with labeled data (x)\n",
    "model = naive_bayes_train(x, classes=rownames, features=colnames)\n",
    "\n",
    "# Classify a new data example, represented as a set of patterns (pattern)\n",
    "unknown_language = np.zeros(model.features.size)\n",
    "pattern = ['😄', '👊', '💃']\n",
    "\n",
    "# Reshape the set into a binary vector\n",
    "\n",
    "for p in pattern:\n",
    "    unknown_language[col_index[p]] = 1\n",
    "\n",
    "# Output the most likely classes. \n",
    "prediction = naive_bayes_test(model, unknown_language)\n",
    "prediction = np.sort(prediction, order='logprob')\n",
    "topclass = prediction[::-1][0:3]\n",
    "\n",
    "print('Input patterns:', pattern)\n",
    "print('Most likely language: ', topclass[0][0].astype(str))\n",
    "print('Second likely language: ', topclass[1][0].astype(str))\n",
    "print('Third likely language: ', topclass[2][0].astype(str))"
   ]
  },
  {
   "cell_type": "markdown",
   "metadata": {
    "deletable": false,
    "editable": false,
    "nbgrader": {
     "cell_type": "markdown",
     "checksum": "c86fea349359e3bca6449f1237fbec03",
     "grade": false,
     "grade_id": "cell-2f195785e586cc41",
     "locked": true,
     "schema_version": 3,
     "solution": false
    }
   },
   "source": [
    "Do the results make sense to you?  Given the semantics of the three emojis, \"😄(happy), 👊(powerful), 💃(dancing)\", do you feel good about having Python as the programming language for this course? 😄😄 You can also try to predict the most likely languages for a different set of pattern, say \"❌, 🐛, and 🚀\". Do you still see Python among the top 3 classes?  Do you feel even better? "
   ]
  },
  {
   "cell_type": "markdown",
   "metadata": {
    "deletable": false,
    "editable": false,
    "nbgrader": {
     "cell_type": "markdown",
     "checksum": "db9262fc050940ffb559343cc59ad86d",
     "grade": false,
     "grade_id": "cell-19257bad2e36e04c",
     "locked": true,
     "schema_version": 3,
     "solution": false
    }
   },
   "source": [
    "### Task 1 (10 pts)\n",
    "\n",
    "You can use the code we've just shown you to change `most_likely_language` to a string containing the most likely language based on the pattern \"['❌', '🐛', '🚀']\". \n",
    "\n",
    "Note that you should use the `naive_bayes_test` function in your code block to obtain the correct string rather than hard-code the answers to the `most_likely_language` variable.\n"
   ]
  },
  {
   "cell_type": "code",
   "execution_count": 13,
   "metadata": {
    "deletable": false,
    "nbgrader": {
     "cell_type": "code",
     "checksum": "0d69b6fe2af678431dbb440f98db4269",
     "grade": false,
     "grade_id": "most_likely_language",
     "locked": false,
     "schema_version": 3,
     "solution": true
    }
   },
   "outputs": [
    {
     "name": "stdout",
     "output_type": "stream",
     "text": [
      "The most likely language for the pattern ['❌', '🐛', '🚀'] is: JavaScript\n"
     ]
    }
   ],
   "source": [
    "# The 'model' and 'col_index' are already defined and trained in the previous cells.\n",
    "# We just need to use them.\n",
    "\n",
    "# The new pattern to classify\n",
    "pattern = ['❌', '🐛', '🚀']\n",
    "\n",
    "# Create a binary vector representation of the pattern.\n",
    "unknown_language = np.zeros(model.features.size)\n",
    "for p in pattern:\n",
    "    # Check if the pattern exists in our vocabulary from the original dataset\n",
    "    if p in col_index:\n",
    "        unknown_language[col_index[p]] = 1\n",
    "\n",
    "# Use the provided naive_bayes_test function to get the prediction\n",
    "prediction = naive_bayes_test(model, unknown_language)\n",
    "\n",
    "# Sort the prediction to find the most likely class\n",
    "prediction = np.sort(prediction, order='logprob')\n",
    "topclass = prediction[::-1][0]\n",
    "\n",
    "# Assign the most likely language to the variable as a string\n",
    "most_likely_language = topclass[0].astype(str)\n",
    "\n",
    "print(f\"The most likely language for the pattern {pattern} is: {most_likely_language}\")\n"
   ]
  },
  {
   "cell_type": "code",
   "execution_count": 14,
   "metadata": {
    "deletable": false,
    "editable": false,
    "nbgrader": {
     "cell_type": "code",
     "checksum": "0d3fecb11f6b807e48e801de07fdc02d",
     "grade": true,
     "grade_id": "cell-8ec60a4bc12774c1",
     "locked": true,
     "points": 10,
     "schema_version": 3,
     "solution": false
    }
   },
   "outputs": [],
   "source": [
    "#Test cell containg visible and hidden tests\n",
    "\n",
    "assert isinstance(most_likely_language, str), f\"most_likely_language should return a string.\"\n",
    "\n",
    "#Hidden tests are below"
   ]
  },
  {
   "cell_type": "markdown",
   "metadata": {
    "deletable": false,
    "editable": false,
    "nbgrader": {
     "cell_type": "markdown",
     "checksum": "ca7b21039372c5f0c6b4a7c387b7729f",
     "grade": false,
     "grade_id": "cell-cbb13698cf5e4879",
     "locked": true,
     "schema_version": 3,
     "solution": false
    }
   },
   "source": [
    "We've shown that \"patterns\" of data objects can be utilized to build more complex data mining functionalities.  So can similarities/distances.  In the following example, you'll see how we compute the distance between every pair of our data objects (programming languages), and how we can cluster them purely based on the distances.  The following snippet should generate a hierarchy of languages, where more similar languages (based on how people describe them with emojis) are clustered close by.  This structure of hierarchical clusters are called a \"dendrogram.\"  Does it make sense to you that Javascript is closer to Ruby and Python is closer to Java?  "
   ]
  },
  {
   "cell_type": "code",
   "execution_count": 15,
   "metadata": {
    "deletable": false,
    "editable": false,
    "nbgrader": {
     "cell_type": "code",
     "checksum": "28c66fc777ff21918481b683645a02aa",
     "grade": false,
     "grade_id": "cell-dd44ad2c41b3f43f",
     "locked": true,
     "schema_version": 3,
     "solution": false
    }
   },
   "outputs": [
    {
     "data": {
      "image/png": "[encoded data removed]",
      "text/plain": [
       "<Figure size 640x480 with 1 Axes>"
      ]
     },
     "metadata": {},
     "output_type": "display_data"
    }
   ],
   "source": [
    "from scipy.cluster import hierarchy\n",
    "from scipy.spatial import distance\n",
    "import matplotlib.pyplot as plt\n",
    "%matplotlib inline\n",
    "\n",
    "# compute the distances between every pairs of languages\n",
    "dist = distance.pdist(x, 'euclidean')\n",
    "\n",
    "# then use the distances to discover the clustering structure\n",
    "Z = hierarchy.linkage(dist, 'ward')\n",
    "\n",
    "dn = hierarchy.dendrogram(Z, labels = rownames, orientation='right', color_threshold = 10000)\n",
    "# this should genereate a hierarchy that shows which languages are closer to which"
   ]
  },
  {
   "cell_type": "markdown",
   "metadata": {
    "deletable": false,
    "editable": false,
    "nbgrader": {
     "cell_type": "markdown",
     "checksum": "509f614aaee93bac6d89bfc0ae5df74a",
     "grade": false,
     "grade_id": "cell-fbd313d10f0de610",
     "locked": true,
     "schema_version": 3,
     "solution": false
    }
   },
   "source": [
    "### Task 2 (10 pts)\n",
    "Based on the dengdrogram above, can you conclude which language is closest to Javascript? Return the answer in the function below as a string.\n",
    "\n",
    "For example, you may replace `\"\"` with `\"Java\"`."
   ]
  },
  {
   "cell_type": "code",
   "execution_count": 16,
   "metadata": {
    "deletable": false,
    "nbgrader": {
     "cell_type": "code",
     "checksum": "1148ac999c43f7563ca8626a5dc78a4b",
     "grade": false,
     "grade_id": "closest_language",
     "locked": false,
     "schema_version": 3,
     "solution": true
    }
   },
   "outputs": [],
   "source": [
    "# Change closest_language to the correct value based on the dendrogram\n",
    "closest_language = \"Ruby\"\n",
    "\n",
    "# The assert statement below will verify that the value is a string.\n",
    "assert isinstance(closest_language, str), f\"closest_language should return a string.\"\n"
   ]
  },
  {
   "cell_type": "code",
   "execution_count": 17,
   "metadata": {
    "deletable": false,
    "editable": false,
    "nbgrader": {
     "cell_type": "code",
     "checksum": "7f022e212081e15c6d00b7c951126d6b",
     "grade": true,
     "grade_id": "cell-9975ae0502ab7f57",
     "locked": true,
     "points": 10,
     "schema_version": 3,
     "solution": false
    }
   },
   "outputs": [],
   "source": [
    "assert isinstance(closest_language, str), f\"closest_language should return a string.\"\n",
    "\n",
    "# This code block contain hidden test for Exercise 2\n",
    "# We will assess whether you get the correct value for closest_language\n"
   ]
  },
  {
   "cell_type": "code",
   "execution_count": 18,
   "metadata": {},
   "outputs": [],
   "source": [
    "# Change closest_language to the correct value\n",
    "closest_language = \"TypeScript\"\n",
    "\n",
    "# The assert statement below will verify that the value is a string.\n",
    "assert isinstance(closest_language, str), f\"closest_language should return a string.\"\n"
   ]
  },
  {
   "cell_type": "code",
   "execution_count": null,
   "metadata": {},
   "outputs": [],
   "source": []
  },
  {
   "cell_type": "code",
   "execution_count": null,
   "metadata": {},
   "outputs": [],
   "source": []
  },
  {
   "cell_type": "code",
   "execution_count": null,
   "metadata": {},
   "outputs": [],
   "source": []
  },
  {
   "cell_type": "code",
   "execution_count": null,
   "metadata": {},
   "outputs": [],
   "source": []
  },
  {
   "cell_type": "code",
   "execution_count": null,
   "metadata": {},
   "outputs": [],
   "source": []
  },
  {
   "cell_type": "code",
   "execution_count": null,
   "metadata": {},
   "outputs": [],
   "source": []
  },
  {
   "cell_type": "code",
   "execution_count": null,
   "metadata": {},
   "outputs": [],
   "source": []
  }
 ],
 "metadata": {
  "kernelspec": {
   "display_name": "Python 3.10 (ipykernel)",
   "language": "python",
   "name": "python3"
  },
  "language_info": {
   "codemirror_mode": {
    "name": "ipython",
    "version": 3
   },
   "file_extension": ".py",
   "mimetype": "text/x-python",
   "name": "python",
   "nbconvert_exporter": "python",
   "pygments_lexer": "ipython3",
   "version": "3.10.11"
  }
 },
 "nbformat": 4,
 "nbformat_minor": 4
}
