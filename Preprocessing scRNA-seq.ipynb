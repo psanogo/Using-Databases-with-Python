{
 "cells": [
  {
   "cell_type": "markdown",
   "metadata": {
    "deletable": false,
    "editable": false,
    "nbgrader": {
     "cell_type": "markdown",
     "checksum": "ff9e57dbd50365d2a10249aa66f996df",
     "grade": false,
     "grade_id": "cell-c998f7f95e083d16",
     "locked": true,
     "schema_version": 3,
     "solution": false,
     "task": false
    }
   },
   "source": [
    "## Preprocessing scRNA-seq data\n",
    "\n",
    "### Students notebook"
   ]
  },
  {
   "cell_type": "markdown",
   "metadata": {
    "deletable": false,
    "editable": false,
    "nbgrader": {
     "cell_type": "markdown",
     "checksum": "31d5170f8faa28701a37f4a82f815b34",
     "grade": false,
     "grade_id": "cell-b8d51ef2e3b6074d",
     "locked": true,
     "schema_version": 3,
     "solution": false,
     "task": false
    }
   },
   "source": [
    "#### Let's get our data ready for analysis!\n",
    "\n",
    "As we discussed in the coding lecture, scRNA-seq data must undergo several preprocessing steps before being amenable for further analysis. Let's apply these steps on your postdoc data!"
   ]
  },
  {
   "cell_type": "code",
   "execution_count": 10,
   "metadata": {
    "deletable": false,
    "editable": false,
    "nbgrader": {
     "cell_type": "code",
     "checksum": "3e986dc4900f984781284c4e099a9ec8",
     "grade": false,
     "grade_id": "cell-c1d843157270dfde",
     "locked": true,
     "schema_version": 3,
     "solution": false,
     "task": false
    }
   },
   "outputs": [
    {
     "name": "stdout",
     "output_type": "stream",
     "text": [
      "(424, 20953)\n"
     ]
    }
   ],
   "source": [
    "# First things first: let's import the relevant libraries and read the data\n",
    "\n",
    "# packages\n",
    "import numpy as np\n",
    "import pandas as pd\n",
    "import scanpy as sc \n",
    "\n",
    "# loading the T-cell data\n",
    "scder = sc.read_h5ad('./data/scder.h5ad')\n",
    "data_statistics = (scder.n_obs, scder.n_vars)\n",
    "print(data_statistics)"
   ]
  },
  {
   "cell_type": "markdown",
   "metadata": {
    "deletable": false,
    "editable": false,
    "nbgrader": {
     "cell_type": "markdown",
     "checksum": "f4c0f35268a0b3ee694662c29807da45",
     "grade": false,
     "grade_id": "cell-02ab26fac99117a7",
     "locked": true,
     "schema_version": 3,
     "solution": false,
     "task": false
    }
   },
   "source": [
    "We start by checking whether all cells have at least 200 expressed genes, as well as whether all genes are expressed in at least 3 cells"
   ]
  },
  {
   "cell_type": "code",
   "execution_count": 11,
   "metadata": {
    "deletable": false,
    "nbgrader": {
     "cell_type": "code",
     "checksum": "1695516af942e1fa9f7d6cdba349cd73",
     "grade": false,
     "grade_id": "cell-06582d220946ee3a",
     "locked": false,
     "schema_version": 3,
     "solution": true,
     "task": false
    }
   },
   "outputs": [
    {
     "name": "stdout",
     "output_type": "stream",
     "text": [
      "(424, 14158)\n"
     ]
    }
   ],
   "source": [
    "# exercise on basic filtering: use scanpy filter_cells and filters_genes functions (both of them in the pp module)\n",
    "# to filter (a) cells with fewer than 200 expressed genes and (b) genes expressed in fewer than 3 cells.\n",
    "# Update the 'data_statistics' with the new number of cells and genes\n",
    "\n",
    "# your code here\n",
    "\n",
    "# Filter cells\n",
    "sc.pp.filter_cells(scder, min_genes=200)\n",
    "\n",
    "# Filter genes\n",
    "sc.pp.filter_genes(scder, min_cells=3)\n",
    "\n",
    "# Update data_statistics\n",
    "data_statistics = (scder.n_obs, scder.n_vars)\n",
    "\n",
    "print(data_statistics)"
   ]
  },
  {
   "cell_type": "code",
   "execution_count": 12,
   "metadata": {
    "deletable": false,
    "editable": false,
    "nbgrader": {
     "cell_type": "code",
     "checksum": "9a6321c5f037b4703d31b84b48f770a0",
     "grade": true,
     "grade_id": "cell-4f12d9369517cf6c",
     "locked": true,
     "points": 5,
     "schema_version": 3,
     "solution": false,
     "task": false
    }
   },
   "outputs": [],
   "source": [
    "# tip: recall how to use filter_cells and filter_genes, and use them in this order"
   ]
  },
  {
   "cell_type": "markdown",
   "metadata": {
    "deletable": false,
    "editable": false,
    "nbgrader": {
     "cell_type": "markdown",
     "checksum": "014889466ff3a864ab00efca06a0b9d6",
     "grade": false,
     "grade_id": "cell-ba37e655212f8898",
     "locked": true,
     "schema_version": 3,
     "solution": false,
     "task": false
    }
   },
   "source": [
    "No cells were eliminated, however the number of genes was reduced."
   ]
  },
  {
   "cell_type": "markdown",
   "metadata": {
    "deletable": false,
    "editable": false,
    "nbgrader": {
     "cell_type": "markdown",
     "checksum": "b74bd1ef0d78bd1595139c05f72e85d4",
     "grade": false,
     "grade_id": "cell-13f11e7886bfc053",
     "locked": true,
     "schema_version": 3,
     "solution": false,
     "task": false
    }
   },
   "source": [
    "We should now ensure that no cell has more than 5% of the total amount of reads from mitochondrial mRNA."
   ]
  },
  {
   "cell_type": "code",
   "execution_count": 13,
   "metadata": {
    "deletable": false,
    "nbgrader": {
     "cell_type": "code",
     "checksum": "8488ed8ca313dada5a1c63c24f77d1e0",
     "grade": false,
     "grade_id": "cell-ebebd430781da062",
     "locked": false,
     "schema_version": 3,
     "solution": true,
     "task": false
    }
   },
   "outputs": [
    {
     "name": "stdout",
     "output_type": "stream",
     "text": [
      "1      4.061594\n",
      "2      1.964647\n",
      "3      3.634916\n",
      "5      4.102948\n",
      "6      3.885202\n",
      "         ...   \n",
      "495    4.789249\n",
      "496    2.351466\n",
      "497    2.203728\n",
      "498    2.925115\n",
      "499    2.829010\n",
      "Name: pct_counts_mt, Length: 380, dtype: float32\n"
     ]
    }
   ],
   "source": [
    "# exercise: compute the percentage of mitochondrial reads.\n",
    "\n",
    "# your code here\n",
    "\n",
    "# Identify mitochondrial genes (genes starting with 'MT-')\n",
    "scder.var['mt'] = scder.var_names.str.startswith('MT-')\n",
    "\n",
    "# Calculate QC metrics, including mitochondrial percentage\n",
    "sc.pp.calculate_qc_metrics(scder, qc_vars=['mt'], percent_top=None, log1p=False, inplace=True)\n",
    "\n",
    "\n",
    "# exercise: filter out cells possibly affected by contamination\n",
    "# you should ensure that no cell with more than 5% mt reads is left in the dataset\n",
    "# update the data_statistics tuple after filtering\n",
    "\n",
    "# your code here\n",
    "\n",
    "# Filter out cells with more than 5% mitochondrial reads\n",
    "scder = scder[scder.obs.pct_counts_mt < 5, :]\n",
    "\n",
    "# Update data_statistics\n",
    "data_statistics = (scder.n_obs, scder.n_vars)\n",
    "\n",
    "# you should end up with a new column in the obs dataset, namely pct_counts_mt\n",
    "print(scder.obs.pct_counts_mt)"
   ]
  },
  {
   "cell_type": "code",
   "execution_count": 14,
   "metadata": {
    "deletable": false,
    "editable": false,
    "nbgrader": {
     "cell_type": "code",
     "checksum": "5b100eddf6be6c26c23d6c0c954b0f7a",
     "grade": true,
     "grade_id": "cell-3dd8903301651582",
     "locked": true,
     "points": 5,
     "schema_version": 3,
     "solution": false,
     "task": false
    }
   },
   "outputs": [],
   "source": [
    "# tip: Recall how we first identified mitochondrial genes (they start with the letters 'MT-'), \n",
    "# and then we computed their prevalence with the calculate_qc_metrics function"
   ]
  },
  {
   "cell_type": "code",
   "execution_count": 15,
   "metadata": {
    "deletable": false,
    "nbgrader": {
     "cell_type": "code",
     "checksum": "1ffc7dac1e1165a8dfff062a1f9fca2b",
     "grade": false,
     "grade_id": "cell-009a4bca50a96ef7",
     "locked": false,
     "schema_version": 3,
     "solution": true,
     "task": false
    }
   },
   "outputs": [
    {
     "name": "stdout",
     "output_type": "stream",
     "text": [
      "(380, 14158)\n"
     ]
    }
   ],
   "source": [
    "# exercise: apply the following preprocessing steps in order, with the suggested settings,\n",
    "# to the new anndata object `scderp`:\n",
    "# normalize_total with target_sum=1e4\n",
    "# log1p\n",
    "# highly_variable_genes\n",
    "# store a copy of the current scder inside its own \"raw\" attribute\n",
    "# highly_variable_genes\n",
    "# restrict scder to the most variable genes\n",
    "# scale with max_value=10\n",
    "\n",
    "# creating a new andata object. Use scderp from now on:\n",
    "scderp = scder.copy()\n",
    "\n",
    "# your code here\n",
    "\n",
    "# Normalize total counts to 1e4 per cell\n",
    "sc.pp.normalize_total(scderp, target_sum=1e4)\n",
    "\n",
    "# Log-transform the data\n",
    "sc.pp.log1p(scderp)\n",
    "\n",
    "# Identify highly variable genes\n",
    "sc.pp.highly_variable_genes(scderp, min_mean=0.0125, max_mean=3, min_disp=0.5)\n",
    "\n",
    "# Store a copy of the current scderp inside its own \"raw\" attribute\n",
    "# This is usually done *before* filtering for highly variable genes if you want the raw, normalized, log-transformed data\n",
    "# for comparison. However, the prompt places it here.\n",
    "scderp.raw = scderp\n",
    "\n",
    "# Restrict scderp to the most variable genes\n",
    "scderp = scderp[:, scderp.var.highly_variable]\n",
    "\n",
    "# Scale the data\n",
    "sc.pp.scale(scderp, max_value=10)\n",
    "\n",
    "\n",
    "print(data_statistics)"
   ]
  },
  {
   "cell_type": "code",
   "execution_count": 16,
   "metadata": {
    "deletable": false,
    "editable": false,
    "nbgrader": {
     "cell_type": "code",
     "checksum": "2bb4d1dd9299751b8fdd79014d81b5b1",
     "grade": true,
     "grade_id": "cell-3f77744e436c256f",
     "locked": true,
     "points": 5,
     "schema_version": 3,
     "solution": false,
     "task": false
    }
   },
   "outputs": [],
   "source": [
    "# tip: once again, this is a simple subset of scder"
   ]
  },
  {
   "cell_type": "markdown",
   "metadata": {
    "deletable": false,
    "editable": false,
    "nbgrader": {
     "cell_type": "markdown",
     "checksum": "8dc98707137074eead865fd15a72a65f",
     "grade": false,
     "grade_id": "cell-2b2bdb6caa3dcd7a",
     "locked": true,
     "schema_version": 3,
     "solution": false,
     "task": false
    }
   },
   "source": [
    "We can now start the actual preprocessing. We will apply the standard pipeline that we have already used in the coding lecture."
   ]
  },
  {
   "cell_type": "code",
   "execution_count": 17,
   "metadata": {
    "deletable": false,
    "nbgrader": {
     "cell_type": "code",
     "checksum": "720c3a0fff292586870dcc0090ad4292",
     "grade": false,
     "grade_id": "cell-584bfd0b8f25bda5",
     "locked": false,
     "schema_version": 3,
     "solution": true,
     "task": false
    }
   },
   "outputs": [
    {
     "data": {
      "text/plain": [
       "AnnData object with n_obs × n_vars = 380 × 14158\n",
       "    obs: 'Unnamed: 0', 'cell.type', 'cytokine.condition', 'donor.id', 'batch.10X', 'nGene', 'nUMI', 'percent.mito', 'S.Score', 'G2M.Score', 'Phase', 'cluster.id', 'effectorness', 'n_genes', 'n_genes_by_counts', 'total_counts', 'total_counts_mt', 'pct_counts_mt'\n",
       "    var: 'n_cells', 'mt', 'n_cells_by_counts', 'mean_counts', 'pct_dropout_by_counts', 'total_counts'"
      ]
     },
     "execution_count": 17,
     "metadata": {},
     "output_type": "execute_result"
    }
   ],
   "source": [
    "# exercise: apply the following preprocessing steps in order, with the suggested settings, \n",
    "# to the new anndata object `scderp`:\n",
    "# normalize_total with target_sum=1e4\n",
    "# log1p \n",
    "# highly_variable_genes\n",
    "# store a copy of the current scder inside its own \"raw\" attribute\n",
    "# highly_variable_genes\n",
    "# restrict scder to the most variable genes\n",
    "# scale with max_value=10\n",
    "\n",
    "# creating a new andata object. Use scderp from now on:\n",
    "scderp = scder.copy()\n",
    "\n",
    "# your code here\n",
    "\n",
    "\n",
    "scderp"
   ]
  },
  {
   "cell_type": "code",
   "execution_count": 18,
   "metadata": {
    "deletable": false,
    "editable": false,
    "nbgrader": {
     "cell_type": "code",
     "checksum": "793c0954aa281a67f02df50389b3f981",
     "grade": true,
     "grade_id": "cell-6012f000c5e0edc8",
     "locked": true,
     "points": 5,
     "schema_version": 3,
     "solution": false,
     "task": false
    }
   },
   "outputs": [],
   "source": [
    "# tip: this is exactly the pipeline we followed in the coding lecture!"
   ]
  },
  {
   "cell_type": "markdown",
   "metadata": {
    "deletable": false,
    "editable": false,
    "nbgrader": {
     "cell_type": "markdown",
     "checksum": "3d6020b0af44ce51b1e0edab1db1e594",
     "grade": false,
     "grade_id": "cell-3af2c2971dcf83aa",
     "locked": true,
     "schema_version": 3,
     "solution": false,
     "task": false
    }
   },
   "source": [
    "The data should now be fully preprocessed. We will use the `scderp` object for cell identification in the next assignment."
   ]
  },
  {
   "cell_type": "code",
   "execution_count": null,
   "metadata": {},
   "outputs": [],
   "source": []
  },
  {
   "cell_type": "code",
   "execution_count": null,
   "metadata": {},
   "outputs": [],
   "source": []
  },
  {
   "cell_type": "code",
   "execution_count": null,
   "metadata": {},
   "outputs": [],
   "source": []
  },
  {
   "cell_type": "code",
   "execution_count": null,
   "metadata": {},
   "outputs": [],
   "source": []
  }
 ],
 "metadata": {
  "kernelspec": {
   "display_name": "Python 3",
   "language": "python",
   "name": "python3"
  },
  "language_info": {
   "codemirror_mode": {
    "name": "ipython",
    "version": 3
   },
   "file_extension": ".py",
   "mimetype": "text/x-python",
   "name": "python",
   "nbconvert_exporter": "python",
   "pygments_lexer": "ipython3",
   "version": "3.7.6"
  }
 },
 "nbformat": 4,
 "nbformat_minor": 4
}
