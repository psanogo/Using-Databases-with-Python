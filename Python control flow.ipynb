{
 "cells": [
  {
   "cell_type": "markdown",
   "metadata": {
    "deletable": false,
    "editable": false,
    "nbgrader": {
     "cell_type": "markdown",
     "checksum": "fb9866565bbf238497c095a6cacb91f2",
     "grade": false,
     "grade_id": "cell-b9d2d12472e2d56b",
     "locked": true,
     "schema_version": 3,
     "solution": false,
     "task": false
    },
    "tags": []
   },
   "source": [
    "## Control flow in Python\n",
    "\n",
    "#### Your final project as a proud PhD students... is not over yet!\n",
    "\n",
    "Your supervisors are not convinced yet regarding your progresses, and so they asked for some additional checks. First, they want to know which gene have a high level of expression (a.k.a. activity). According to them, a gene with an expression higher than 7 is highly expressed."
   ]
  },
  {
   "cell_type": "code",
   "execution_count": 15,
   "metadata": {
    "deletable": false,
    "nbgrader": {
     "cell_type": "code",
     "checksum": "29c8985e4ebb445c8a4fd9d1c53cf635",
     "grade": false,
     "grade_id": "cell-253868574495e71f",
     "locked": false,
     "schema_version": 3,
     "solution": true,
     "task": false
    }
   },
   "outputs": [
    {
     "name": "stdout",
     "output_type": "stream",
     "text": [
      "['IKZF1']\n",
      "['IKZF1']\n",
      "4\n",
      "['cis-regulatory region sequence-specific DNA binding', 'DNA-binding transcription factor activity', 'sequence-specific double-stranded DNA binding', 'transcription regulator activity']\n"
     ]
    }
   ],
   "source": [
    "# here the dictionary recapitulating your findings\n",
    "d1 = {'IKZF1':10, 'MYC':5, 'MAPK1':5}\n",
    "\n",
    "\n",
    "# exercise: using a for loop, append to L1 the names of the genes with an expression level higher than 7\n",
    "L1 = []\n",
    "# your code here\n",
    "# We iterate through each key-value pair (gene name and expression level) in the dictionary\n",
    "for gene, expression in d1.items():\n",
    "    # We check if the expression level is higher than 7\n",
    "    if expression > 7:\n",
    "        # If it is, we add the gene name to our list\n",
    "        L1.append(gene)\n",
    "\n",
    "\n",
    "print(L1)\n",
    "# tip: you can add new elements to a list with the \"append\" method\n",
    "\n",
    "# ---\n",
    "\n",
    "# exercise: create a function that accepts d1 and a numerical threshold and \n",
    "# that returns a list containing the names of the genes with expression larger than the threshold\n",
    "\n",
    "# defining the function\n",
    "def f1(d, t): \n",
    "    # your code here\n",
    "    # This list will store the results\n",
    "    highly_expressed_genes = []\n",
    "    # The logic is the same as before, but using the function's parameters\n",
    "    for gene, expression in d.items():\n",
    "        if expression > t:\n",
    "            highly_expressed_genes.append(gene)\n",
    "    # The function returns the list of genes that passed the threshold\n",
    "    return highly_expressed_genes\n",
    "\n",
    "\n",
    "# let's try the function\n",
    "res = f1(d1, 7)\n",
    "print(res)\n",
    "# tip: the exercise is like the previous one, but now the code must be wrapped within a function\n",
    "\n",
    "# ---\n",
    "\n",
    "# a minimalistic selection of Gene Ontology biological processes\n",
    "bps = {'GO:0000987':{'name':'cis-regulatory region sequence-specific DNA binding', 'genes':['ELL2', 'FOXH1', 'IKZF1', 'MYC', 'GATA1']},\n",
    "      'GO:0003700':{'name':'DNA-binding transcription factor activity', 'genes':['CSRNP3', 'CTCF', 'IKZF1', 'MYC', 'DACH1']},\n",
    "      'GO:1990837':{'name':'sequence-specific double-stranded DNA binding', 'genes':['ATOH7', 'IKZF1', 'MYC', 'BACH2', 'BARHL1']},\n",
    "      'GO:0140110':{'name':'transcription regulator activity', 'genes':['IRF7', 'ZNF311', 'IKZF1', 'MYC', 'PROP1']},\n",
    "      'GO:0001046':{'name':'core promoter sequence-specific DNA binding', 'genes':['GATA4', 'HIF1A', 'MYC', 'NKX2-5', 'SOX10']},\n",
    "      'GO:0004707':{'name':'MAP kinase activity', 'genes':['MAPK1', 'MAPK9', 'MAPK3', 'MAPK10', 'MAPK13']}}\n",
    "\n",
    "# exercise: find how many biological processes IKZF1 is involved in!\n",
    "\n",
    "# increase \"count\" by 1 for each biological processes IKZF1 is involved in\n",
    "count = 0\n",
    "\n",
    "# your code here\n",
    "# We iterate through the values of the bps dictionary. Each value is a dictionary containing process details.\n",
    "for process_details in bps.values():\n",
    "    # We check if 'IKZF1' is present in the 'genes' list for the current process\n",
    "    if 'IKZF1' in process_details['genes']:\n",
    "        # If it is, we increment our counter\n",
    "        count += 1\n",
    "\n",
    "\n",
    "print(count)\n",
    "# tip: you can use a for loop to iterating over each biological process\n",
    "\n",
    "# ---\n",
    "\n",
    "# exercise: create a function that accepts the bps dictionary, a gene name, \n",
    "# and returns the names of pathways that contain the gene\n",
    "\n",
    "# defining the function\n",
    "def f2(bps, gene) :\n",
    "    # your code here\n",
    "    # This list will store the names of the pathways\n",
    "    pathway_names = []\n",
    "    # We iterate through each biological process's details\n",
    "    for process_details in bps.values():\n",
    "        # We check if the input 'gene' is in the list of genes for that process\n",
    "        if gene in process_details['genes']:\n",
    "            # If it is, we append the 'name' of the pathway to our list\n",
    "            pathway_names.append(process_details['name'])\n",
    "    # The function returns the list of pathway names\n",
    "    return pathway_names\n",
    "\n",
    "\n",
    "# let's try f2...\n",
    "res = f2(bps, 'IKZF1')\n",
    "print(res)\n",
    "# tip: this exercise is similar to the previous one, just rememeber to return the pathways names in a list\n"
   ]
  },
  {
   "cell_type": "code",
   "execution_count": 16,
   "metadata": {
    "deletable": false,
    "editable": false,
    "nbgrader": {
     "cell_type": "code",
     "checksum": "fe4fe50c6fe6c77f67d401b66eb2cf50",
     "grade": true,
     "grade_id": "cell-9418a1bbb2311ff8",
     "locked": true,
     "points": 5,
     "schema_version": 3,
     "solution": false,
     "task": false
    }
   },
   "outputs": [],
   "source": [
    "# tip: you can add new elements to a list with the \"append\" method\n"
   ]
  },
  {
   "cell_type": "markdown",
   "metadata": {
    "deletable": false,
    "editable": false,
    "nbgrader": {
     "cell_type": "markdown",
     "checksum": "f574a1af27cdd4b83954c4a2f5cf919c",
     "grade": false,
     "grade_id": "cell-53abea6dbbb68662",
     "locked": true,
     "schema_version": 3,
     "solution": false,
     "task": false
    }
   },
   "source": [
    "Good job! Can you make the code more general? Create a function that accepts gene expression dictionaries similar to d1 and a numerical threshold. The function should return the names of the genes whose expression is larger than the threshold."
   ]
  },
  {
   "cell_type": "code",
   "execution_count": 17,
   "metadata": {
    "deletable": false,
    "nbgrader": {
     "cell_type": "code",
     "checksum": "981367c8d636d92c789540f5f430c5aa",
     "grade": false,
     "grade_id": "cell-a57151ef58f98f28",
     "locked": false,
     "schema_version": 3,
     "solution": true,
     "task": false
    }
   },
   "outputs": [
    {
     "name": "stdout",
     "output_type": "stream",
     "text": [
      "['IKZF1']\n"
     ]
    }
   ],
   "source": [
    "# A dictionary recapitulating your findings\n",
    "d1 = {'IKZF1': 10, 'MYC': 5, 'MAPK1': 5}\n",
    "\n",
    "# exercise: create a function that accepts d1 and a numerical threshold and\n",
    "# that returns a list containing the names of the genes with expression larger than the threshold\n",
    "\n",
    "# defining the function\n",
    "def f1(d, t):\n",
    "    # This list will store the results\n",
    "    genes_above_threshold = []\n",
    "    # We iterate through each key-value pair (gene and expression) in the input dictionary 'd'\n",
    "    for gene, expression in d.items():\n",
    "        # We check if the expression level is higher than the input threshold 't'\n",
    "        if expression > t:\n",
    "            # If it is, we add the gene name to our list\n",
    "            genes_above_threshold.append(gene)\n",
    "    # The function returns the list of genes that passed the threshold\n",
    "    return genes_above_threshold\n",
    "\n",
    "\n",
    "# let's try the function\n",
    "res = f1(d1, 7)\n",
    "print(res)\n",
    "\n"
   ]
  },
  {
   "cell_type": "code",
   "execution_count": 18,
   "metadata": {
    "deletable": false,
    "editable": false,
    "nbgrader": {
     "cell_type": "code",
     "checksum": "b9350026a8f65e2408495cf4e1deec07",
     "grade": true,
     "grade_id": "cell-505621f7726bfcb5",
     "locked": true,
     "points": 5,
     "schema_version": 3,
     "solution": false,
     "task": false
    }
   },
   "outputs": [],
   "source": [
    "# tip: the exercise is like the previous one, but now the code must be wrapped within a function\n"
   ]
  },
  {
   "cell_type": "markdown",
   "metadata": {
    "deletable": false,
    "editable": false,
    "nbgrader": {
     "cell_type": "markdown",
     "checksum": "68edfc01b6f2712411cd691236a66383",
     "grade": false,
     "grade_id": "cell-ef0529c158197d39",
     "locked": true,
     "schema_version": 3,
     "solution": false,
     "task": false
    }
   },
   "source": [
    "This is all great, but now your supervisors want to better understand the biological functions of the genes you selected. Thus, you use the information stored inside [Gene Ontology](http://geneontology.org/) for better understanding the exact role of each of the genes inside the organism. Gene Ontology catalogues thousands of biological processes, each process characterized by the genes that partecipate in its operation. A few biological processes where our genes of interest are involved are reported below"
   ]
  },
  {
   "cell_type": "code",
   "execution_count": 19,
   "metadata": {
    "deletable": false,
    "editable": false,
    "nbgrader": {
     "cell_type": "code",
     "checksum": "b3610b2b192ecc8e8037f8f0620e85bb",
     "grade": false,
     "grade_id": "cell-e6c91bc711a73909",
     "locked": true,
     "schema_version": 3,
     "solution": false,
     "task": false
    }
   },
   "outputs": [],
   "source": [
    "# a minimalistic selection of Gene Ontology biological processes\n",
    "bps = {'GO:0000987':{'name':'cis-regulatory region sequence-specific DNA binding', 'genes':['ELL2', 'FOXH1', 'IKZF1', 'MYC', 'GATA1']},\n",
    "      'GO:0003700':{'name':'DNA-binding transcription factor activity', 'genes':['CSRNP3', 'CTCF', 'IKZF1', 'MYC', 'DACH1']},\n",
    "      'GO:1990837':{'name':'sequence-specific double-stranded DNA binding', 'genes':['ATOH7', 'IKZF1', 'MYC', 'BACH2', 'BARHL1']},\n",
    "      'GO:0140110':{'name':'transcription regulator activity', 'genes':['IRF7', 'ZNF311', 'IKZF1', 'MYC', 'PROP1']},\n",
    "      'GO:0001046':{'name':'core promoter sequence-specific DNA binding', 'genes':['GATA4', 'HIF1A', 'MYC', 'NKX2-5', 'SOX10']},\n",
    "      'GO:0004707':{'name':'MAP kinase activity', 'genes':['MAPK1', 'MAPK9', 'MAPK3', 'MAPK10', 'MAPK13']}}"
   ]
  },
  {
   "cell_type": "markdown",
   "metadata": {
    "deletable": false,
    "editable": false,
    "nbgrader": {
     "cell_type": "markdown",
     "checksum": "a2c2513b2c20ce60690fefdc23c97323",
     "grade": false,
     "grade_id": "cell-7f270e0a0b22706a",
     "locked": true,
     "schema_version": 3,
     "solution": false,
     "task": false
    }
   },
   "source": [
    "As you can see, we are representing a set of biological processes with a dictionary named bps. Keys of the dictionary are the IDs of the biological processes (i.e., the `GO:XXXXXXX` numbers), while each value of bps is a single biological process. Each biological process is again a dictionary, characterized by a name and a list of genes\n",
    "\n",
    "Can you find how many biological processes IKZF1 is involved in?"
   ]
  },
  {
   "cell_type": "code",
   "execution_count": 20,
   "metadata": {
    "deletable": false,
    "nbgrader": {
     "cell_type": "code",
     "checksum": "cee464b35d2dea7f53e61be13e65e970",
     "grade": false,
     "grade_id": "cell-0f55f6a7d1c32f6c",
     "locked": false,
     "schema_version": 3,
     "solution": true,
     "task": false
    }
   },
   "outputs": [
    {
     "name": "stdout",
     "output_type": "stream",
     "text": [
      "4\n"
     ]
    }
   ],
   "source": [
    "# a minimalistic selection of Gene Ontology biological processes\n",
    "bps = {'GO:0000987':{'name':'cis-regulatory region sequence-specific DNA binding', 'genes':['ELL2', 'FOXH1', 'IKZF1', 'MYC', 'GATA1']},\n",
    "      'GO:0003700':{'name':'DNA-binding transcription factor activity', 'genes':['CSRNP3', 'CTCF', 'IKZF1', 'MYC', 'DACH1']},\n",
    "      'GO:1990837':{'name':'sequence-specific double-stranded DNA binding', 'genes':['ATOH7', 'IKZF1', 'MYC', 'BACH2', 'BARHL1']},\n",
    "      'GO:0140110':{'name':'transcription regulator activity', 'genes':['IRF7', 'ZNF311', 'IKZF1', 'MYC', 'PROP1']},\n",
    "      'GO:0001046':{'name':'core promoter sequence-specific DNA binding', 'genes':['GATA4', 'HIF1A', 'MYC', 'NKX2-5', 'SOX10']},\n",
    "      'GO:0004707':{'name':'MAP kinase activity', 'genes':['MAPK1', 'MAPK9', 'MAPK3', 'MAPK10', 'MAPK13']}}\n",
    "\n",
    "# exercise: find how many biological processes IKZF1 is involved in!\n",
    "\n",
    "# increase \"count\" by 1 for each biological processes IKZF1 is involved in\n",
    "count = 0\n",
    "\n",
    "# your code here\n",
    "# We iterate through the values of the bps dictionary. Each value is a dictionary containing process details.\n",
    "for process_details in bps.values():\n",
    "    # We check if 'IKZF1' is present in the 'genes' list for the current process.\n",
    "    if 'IKZF1' in process_details['genes']:\n",
    "        # If it is, we increment our counter.\n",
    "        count += 1\n",
    "\n",
    "\n",
    "print(count)\n"
   ]
  },
  {
   "cell_type": "code",
   "execution_count": 21,
   "metadata": {
    "deletable": false,
    "editable": false,
    "nbgrader": {
     "cell_type": "code",
     "checksum": "23a1ddc4d79297b8c1a885bbc719948a",
     "grade": true,
     "grade_id": "cell-c1213678839a070d",
     "locked": true,
     "points": 5,
     "schema_version": 3,
     "solution": false,
     "task": false
    }
   },
   "outputs": [],
   "source": [
    "# tip: you can use a for loop to iterating over each biological process\n"
   ]
  },
  {
   "cell_type": "markdown",
   "metadata": {
    "deletable": false,
    "editable": false,
    "nbgrader": {
     "cell_type": "markdown",
     "checksum": "79ee79cd7096df2e9225595b57079de4",
     "grade": false,
     "grade_id": "cell-d88fbb92ccc55534",
     "locked": true,
     "schema_version": 3,
     "solution": false,
     "task": false
    }
   },
   "source": [
    "Final exercise! Can you create a function that accepts the bps dictionary, a gene name, and returns the names of pathways that contain the gene. "
   ]
  },
  {
   "cell_type": "code",
   "execution_count": 24,
   "metadata": {
    "deletable": false,
    "nbgrader": {
     "cell_type": "code",
     "checksum": "c8ecc99f7f87b24767514d5d539ca829",
     "grade": false,
     "grade_id": "cell-413064ffdc000037",
     "locked": false,
     "schema_version": 3,
     "solution": true,
     "task": false
    }
   },
   "outputs": [
    {
     "name": "stdout",
     "output_type": "stream",
     "text": [
      "['cis-regulatory region sequence-specific DNA binding', 'DNA-binding transcription factor activity', 'sequence-specific double-stranded DNA binding', 'transcription regulator activity']\n"
     ]
    }
   ],
   "source": [
    "def f2_comprehension(bps, gene):\n",
    "    return [process_details['name'] for process_details in bps.values() if gene in process_details['genes']]\n",
    "\n",
    "# Testing the concise version\n",
    "res_comp = f2_comprehension(bps, 'IKZF1')\n",
    "print(res_comp)\n"
   ]
  },
  {
   "cell_type": "code",
   "execution_count": 23,
   "metadata": {
    "deletable": false,
    "editable": false,
    "nbgrader": {
     "cell_type": "code",
     "checksum": "0d478443cd19d07b10b324f226155700",
     "grade": true,
     "grade_id": "cell-6d640dca40df46ba",
     "locked": true,
     "points": 5,
     "schema_version": 3,
     "solution": false,
     "task": false
    }
   },
   "outputs": [],
   "source": [
    "# tip: this exercise is similar to the previous one, just rememeber to return the pathways names in a list\n"
   ]
  },
  {
   "cell_type": "markdown",
   "metadata": {
    "deletable": false,
    "editable": false,
    "nbgrader": {
     "cell_type": "markdown",
     "checksum": "440ad5261d04f94f183c04994057253f",
     "grade": false,
     "grade_id": "cell-35c28f359b729f4b",
     "locked": true,
     "schema_version": 3,
     "solution": false,
     "task": false
    }
   },
   "source": [
    "Today we explored how we can use Python data structures, as well as if statements, for loops and functions for representing biological entities and elaborating on them. More biology-related exercises in the next module!"
   ]
  },
  {
   "cell_type": "code",
   "execution_count": null,
   "metadata": {},
   "outputs": [],
   "source": []
  },
  {
   "cell_type": "code",
   "execution_count": null,
   "metadata": {},
   "outputs": [],
   "source": []
  },
  {
   "cell_type": "code",
   "execution_count": null,
   "metadata": {},
   "outputs": [],
   "source": []
  }
 ],
 "metadata": {
  "kernelspec": {
   "display_name": "Python 3",
   "language": "python",
   "name": "python3"
  },
  "language_info": {
   "codemirror_mode": {
    "name": "ipython",
    "version": 3
   },
   "file_extension": ".py",
   "mimetype": "text/x-python",
   "name": "python",
   "nbconvert_exporter": "python",
   "pygments_lexer": "ipython3",
   "version": "3.7.6"
  }
 },
 "nbformat": 4,
 "nbformat_minor": 5
}
